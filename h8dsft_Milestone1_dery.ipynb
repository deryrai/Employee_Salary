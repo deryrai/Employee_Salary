{
 "cells": [
  {
   "cell_type": "markdown",
   "metadata": {},
   "source": [
    "'''\n",
    "=================================================\n",
    "\n",
    "\n",
    "Milestone 1\n",
    "\n",
    "Nama  : Dery Rai Ambhara\n",
    "Batch : RMT 034\n",
    "\n",
    "Program ini dibuat untuk Menganalisa Persebaran Gaji pekerja dibidang data didunia\n",
    "\n",
    "\n",
    "=================================================\n",
    "\n",
    "'''"
   ]
  },
  {
   "cell_type": "markdown",
   "metadata": {},
   "source": [
    "# Dashboard\n"
   ]
  },
  {
   "cell_type": "markdown",
   "metadata": {},
   "source": [
    "https://public.tableau.com/views/Milestone1_17225141815060/Dashboard1?:language=en-US&publish=yes&:sid=&:redirect=auth&:display_count=n&:origin=viz_share_link"
   ]
  },
  {
   "cell_type": "markdown",
   "metadata": {},
   "source": [
    "# SMART FRAMEWORK"
   ]
  },
  {
   "cell_type": "markdown",
   "metadata": {},
   "source": [
    "Specific: Identifikasi faktor-faktor utama yang mempengaruhi gaji pekerja di bidang data di seluruh dunia\n",
    "\n",
    "Measurable: Ukur keberhasilan dengan tingkat signifikansi statistik p Value <0.05 , untuk menentukan pekerjaan berdasarkan gaji\n",
    "\n",
    "Achievable: Ini dapat dicapai dengan menggunakan dataset yang tepat,analisis yang tepat\n",
    "\n",
    "Relevant:Penting bagi pekerja data untuk memilih pekerjaan yang diinginkan berdasarkan gaji yang diharapkan\n",
    "\n",
    "Time Bound : Q1 2025"
   ]
  },
  {
   "cell_type": "markdown",
   "metadata": {},
   "source": [
    "# PROBLEM STATEMENT"
   ]
  },
  {
   "cell_type": "markdown",
   "metadata": {},
   "source": [
    "Menganalisis faktor-faktor utama yang mempengaruhi gaji pekerja di bidang data di dunia untuk membantu dalam menentukan pekerjaan yang akan diambil berdasarkan struktur gaji yang diharapkan. data akan diukur dengan menemukan variabel-variabel yang signifikan (p-value < 0.05) dalam mempengaruhi gaji, dan hasil analisis ini akan diselesaikan dan tersedia untuk pekerja data pada Q1 2025."
   ]
  },
  {
   "cell_type": "markdown",
   "metadata": {},
   "source": [
    "# PENJABARAN MASALAH BERDASARKAN PROBLEM STATEMENT"
   ]
  },
  {
   "cell_type": "markdown",
   "metadata": {},
   "source": [
    "1. Dimanakah negara yang memiliki rata rata penghasilan yang tinggi sebagai pekerja data \n",
    "\n",
    "2. Apakah tingkat pengalaman kerja dan mempengaruhi penghasilan \n",
    "\n",
    "3. Pekerjaan apa yang penghasilannya paling tinggi \n",
    "\n",
    "4. Bagaimana  rata rata gaji antar benua di tiap perusahaan\n",
    "\n",
    "5. Pada tahun berapa rata rata penghasilan paling tinggi \n",
    "\n",
    "6. Pengaruh kapasitas company terhadap gaji \n",
    "\n",
    "7. Analisa Rata Rata penghasilan secara keseluruhan"
   ]
  },
  {
   "cell_type": "code",
   "execution_count": 237,
   "metadata": {},
   "outputs": [],
   "source": [
    "import pandas as pd #mengimport dataset yang didapat dari kaggle\n",
    "import matplotlib.pyplot as plt # untuk visualiasi\n",
    "from scipy import stats #untuk statistik\n",
    "import seaborn as sns #visualisasi scatter plot\n",
    "df = pd.read_csv('ds_salaries.csv')\n",
    "'Source: https://www.kaggle.com/datasets/ruchi798/data-science-job-salaries'"
   ]
  },
  {
   "cell_type": "code",
   "execution_count": 238,
   "metadata": {},
   "outputs": [
    {
     "data": {
      "text/html": [
       "<div>\n",
       "<style scoped>\n",
       "    .dataframe tbody tr th:only-of-type {\n",
       "        vertical-align: middle;\n",
       "    }\n",
       "\n",
       "    .dataframe tbody tr th {\n",
       "        vertical-align: top;\n",
       "    }\n",
       "\n",
       "    .dataframe thead th {\n",
       "        text-align: right;\n",
       "    }\n",
       "</style>\n",
       "<table border=\"1\" class=\"dataframe\">\n",
       "  <thead>\n",
       "    <tr style=\"text-align: right;\">\n",
       "      <th></th>\n",
       "      <th>Unnamed: 0</th>\n",
       "      <th>work_year</th>\n",
       "      <th>experience_level</th>\n",
       "      <th>employment_type</th>\n",
       "      <th>job_title</th>\n",
       "      <th>salary</th>\n",
       "      <th>salary_currency</th>\n",
       "      <th>salary_in_usd</th>\n",
       "      <th>employee_residence</th>\n",
       "      <th>remote_ratio</th>\n",
       "      <th>company_location</th>\n",
       "      <th>company_size</th>\n",
       "    </tr>\n",
       "  </thead>\n",
       "  <tbody>\n",
       "    <tr>\n",
       "      <th>0</th>\n",
       "      <td>0</td>\n",
       "      <td>2020</td>\n",
       "      <td>MI</td>\n",
       "      <td>FT</td>\n",
       "      <td>Data Scientist</td>\n",
       "      <td>70000</td>\n",
       "      <td>EUR</td>\n",
       "      <td>79833</td>\n",
       "      <td>DE</td>\n",
       "      <td>0</td>\n",
       "      <td>DE</td>\n",
       "      <td>L</td>\n",
       "    </tr>\n",
       "    <tr>\n",
       "      <th>1</th>\n",
       "      <td>1</td>\n",
       "      <td>2020</td>\n",
       "      <td>SE</td>\n",
       "      <td>FT</td>\n",
       "      <td>Machine Learning Scientist</td>\n",
       "      <td>260000</td>\n",
       "      <td>USD</td>\n",
       "      <td>260000</td>\n",
       "      <td>JP</td>\n",
       "      <td>0</td>\n",
       "      <td>JP</td>\n",
       "      <td>S</td>\n",
       "    </tr>\n",
       "    <tr>\n",
       "      <th>2</th>\n",
       "      <td>2</td>\n",
       "      <td>2020</td>\n",
       "      <td>SE</td>\n",
       "      <td>FT</td>\n",
       "      <td>Big Data Engineer</td>\n",
       "      <td>85000</td>\n",
       "      <td>GBP</td>\n",
       "      <td>109024</td>\n",
       "      <td>GB</td>\n",
       "      <td>50</td>\n",
       "      <td>GB</td>\n",
       "      <td>M</td>\n",
       "    </tr>\n",
       "    <tr>\n",
       "      <th>3</th>\n",
       "      <td>3</td>\n",
       "      <td>2020</td>\n",
       "      <td>MI</td>\n",
       "      <td>FT</td>\n",
       "      <td>Product Data Analyst</td>\n",
       "      <td>20000</td>\n",
       "      <td>USD</td>\n",
       "      <td>20000</td>\n",
       "      <td>HN</td>\n",
       "      <td>0</td>\n",
       "      <td>HN</td>\n",
       "      <td>S</td>\n",
       "    </tr>\n",
       "    <tr>\n",
       "      <th>4</th>\n",
       "      <td>4</td>\n",
       "      <td>2020</td>\n",
       "      <td>SE</td>\n",
       "      <td>FT</td>\n",
       "      <td>Machine Learning Engineer</td>\n",
       "      <td>150000</td>\n",
       "      <td>USD</td>\n",
       "      <td>150000</td>\n",
       "      <td>US</td>\n",
       "      <td>50</td>\n",
       "      <td>US</td>\n",
       "      <td>L</td>\n",
       "    </tr>\n",
       "    <tr>\n",
       "      <th>...</th>\n",
       "      <td>...</td>\n",
       "      <td>...</td>\n",
       "      <td>...</td>\n",
       "      <td>...</td>\n",
       "      <td>...</td>\n",
       "      <td>...</td>\n",
       "      <td>...</td>\n",
       "      <td>...</td>\n",
       "      <td>...</td>\n",
       "      <td>...</td>\n",
       "      <td>...</td>\n",
       "      <td>...</td>\n",
       "    </tr>\n",
       "    <tr>\n",
       "      <th>602</th>\n",
       "      <td>602</td>\n",
       "      <td>2022</td>\n",
       "      <td>SE</td>\n",
       "      <td>FT</td>\n",
       "      <td>Data Engineer</td>\n",
       "      <td>154000</td>\n",
       "      <td>USD</td>\n",
       "      <td>154000</td>\n",
       "      <td>US</td>\n",
       "      <td>100</td>\n",
       "      <td>US</td>\n",
       "      <td>M</td>\n",
       "    </tr>\n",
       "    <tr>\n",
       "      <th>603</th>\n",
       "      <td>603</td>\n",
       "      <td>2022</td>\n",
       "      <td>SE</td>\n",
       "      <td>FT</td>\n",
       "      <td>Data Engineer</td>\n",
       "      <td>126000</td>\n",
       "      <td>USD</td>\n",
       "      <td>126000</td>\n",
       "      <td>US</td>\n",
       "      <td>100</td>\n",
       "      <td>US</td>\n",
       "      <td>M</td>\n",
       "    </tr>\n",
       "    <tr>\n",
       "      <th>604</th>\n",
       "      <td>604</td>\n",
       "      <td>2022</td>\n",
       "      <td>SE</td>\n",
       "      <td>FT</td>\n",
       "      <td>Data Analyst</td>\n",
       "      <td>129000</td>\n",
       "      <td>USD</td>\n",
       "      <td>129000</td>\n",
       "      <td>US</td>\n",
       "      <td>0</td>\n",
       "      <td>US</td>\n",
       "      <td>M</td>\n",
       "    </tr>\n",
       "    <tr>\n",
       "      <th>605</th>\n",
       "      <td>605</td>\n",
       "      <td>2022</td>\n",
       "      <td>SE</td>\n",
       "      <td>FT</td>\n",
       "      <td>Data Analyst</td>\n",
       "      <td>150000</td>\n",
       "      <td>USD</td>\n",
       "      <td>150000</td>\n",
       "      <td>US</td>\n",
       "      <td>100</td>\n",
       "      <td>US</td>\n",
       "      <td>M</td>\n",
       "    </tr>\n",
       "    <tr>\n",
       "      <th>606</th>\n",
       "      <td>606</td>\n",
       "      <td>2022</td>\n",
       "      <td>MI</td>\n",
       "      <td>FT</td>\n",
       "      <td>AI Scientist</td>\n",
       "      <td>200000</td>\n",
       "      <td>USD</td>\n",
       "      <td>200000</td>\n",
       "      <td>IN</td>\n",
       "      <td>100</td>\n",
       "      <td>US</td>\n",
       "      <td>L</td>\n",
       "    </tr>\n",
       "  </tbody>\n",
       "</table>\n",
       "<p>607 rows × 12 columns</p>\n",
       "</div>"
      ],
      "text/plain": [
       "     Unnamed: 0  work_year experience_level employment_type  \\\n",
       "0             0       2020               MI              FT   \n",
       "1             1       2020               SE              FT   \n",
       "2             2       2020               SE              FT   \n",
       "3             3       2020               MI              FT   \n",
       "4             4       2020               SE              FT   \n",
       "..          ...        ...              ...             ...   \n",
       "602         602       2022               SE              FT   \n",
       "603         603       2022               SE              FT   \n",
       "604         604       2022               SE              FT   \n",
       "605         605       2022               SE              FT   \n",
       "606         606       2022               MI              FT   \n",
       "\n",
       "                      job_title  salary salary_currency  salary_in_usd  \\\n",
       "0                Data Scientist   70000             EUR          79833   \n",
       "1    Machine Learning Scientist  260000             USD         260000   \n",
       "2             Big Data Engineer   85000             GBP         109024   \n",
       "3          Product Data Analyst   20000             USD          20000   \n",
       "4     Machine Learning Engineer  150000             USD         150000   \n",
       "..                          ...     ...             ...            ...   \n",
       "602               Data Engineer  154000             USD         154000   \n",
       "603               Data Engineer  126000             USD         126000   \n",
       "604                Data Analyst  129000             USD         129000   \n",
       "605                Data Analyst  150000             USD         150000   \n",
       "606                AI Scientist  200000             USD         200000   \n",
       "\n",
       "    employee_residence  remote_ratio company_location company_size  \n",
       "0                   DE             0               DE            L  \n",
       "1                   JP             0               JP            S  \n",
       "2                   GB            50               GB            M  \n",
       "3                   HN             0               HN            S  \n",
       "4                   US            50               US            L  \n",
       "..                 ...           ...              ...          ...  \n",
       "602                 US           100               US            M  \n",
       "603                 US           100               US            M  \n",
       "604                 US             0               US            M  \n",
       "605                 US           100               US            M  \n",
       "606                 IN           100               US            L  \n",
       "\n",
       "[607 rows x 12 columns]"
      ]
     },
     "execution_count": 238,
     "metadata": {},
     "output_type": "execute_result"
    }
   ],
   "source": [
    "df"
   ]
  },
  {
   "cell_type": "markdown",
   "metadata": {},
   "source": [
    "# Data Cleaning"
   ]
  },
  {
   "cell_type": "code",
   "execution_count": 239,
   "metadata": {},
   "outputs": [
    {
     "data": {
      "text/plain": [
       "Unnamed: 0            0\n",
       "work_year             0\n",
       "experience_level      0\n",
       "employment_type       0\n",
       "job_title             0\n",
       "salary                0\n",
       "salary_currency       0\n",
       "salary_in_usd         0\n",
       "employee_residence    0\n",
       "remote_ratio          0\n",
       "company_location      0\n",
       "company_size          0\n",
       "dtype: int64"
      ]
     },
     "execution_count": 239,
     "metadata": {},
     "output_type": "execute_result"
    }
   ],
   "source": [
    "df.isna().sum() #pengecekan missing value"
   ]
  },
  {
   "cell_type": "markdown",
   "metadata": {},
   "source": [
    "Tidak adanya mising value pada tiap kolom"
   ]
  },
  {
   "cell_type": "code",
   "execution_count": 240,
   "metadata": {},
   "outputs": [
    {
     "data": {
      "text/plain": [
       "Index(['Unnamed: 0', 'work_year', 'experience_level', 'employment_type',\n",
       "       'job_title', 'salary', 'salary_currency', 'salary_in_usd',\n",
       "       'employee_residence', 'remote_ratio', 'company_location',\n",
       "       'company_size'],\n",
       "      dtype='object')"
      ]
     },
     "execution_count": 240,
     "metadata": {},
     "output_type": "execute_result"
    }
   ],
   "source": [
    "df.columns #pengecekan nama nama kolom"
   ]
  },
  {
   "cell_type": "markdown",
   "metadata": {},
   "source": [
    "Adanya kolom yang tidak diinginkan yaitu unnamed :0 maka harus dilakukan handling pada kolom tersebut"
   ]
  },
  {
   "cell_type": "markdown",
   "metadata": {},
   "source": [
    "## Handling coloumns Unnamed"
   ]
  },
  {
   "cell_type": "code",
   "execution_count": 241,
   "metadata": {},
   "outputs": [],
   "source": [
    "df.drop(columns=['Unnamed: 0'], inplace=True) #drop kolom unnamed yang tidak mengartikan apa apa+\n",
    "df.drop(columns=['salary'], inplace=True) #kolom tidak digunakan sebagai pengambilan data\n"
   ]
  },
  {
   "cell_type": "code",
   "execution_count": 242,
   "metadata": {},
   "outputs": [
    {
     "data": {
      "text/plain": [
       "Index(['work_year', 'experience_level', 'employment_type', 'job_title',\n",
       "       'salary_currency', 'salary_in_usd', 'employee_residence',\n",
       "       'remote_ratio', 'company_location', 'company_size'],\n",
       "      dtype='object')"
      ]
     },
     "execution_count": 242,
     "metadata": {},
     "output_type": "execute_result"
    }
   ],
   "source": [
    "df.columns # pengecekan kembali kolom"
   ]
  },
  {
   "cell_type": "markdown",
   "metadata": {},
   "source": [
    "kolom yang didapat setelah melakukan handling sesuai yang diharapkan dan semua nama kolom berguna untuk pengolahan data nantinya\n",
    "\n",
    "------------------------------------------------------------------------"
   ]
  },
  {
   "cell_type": "markdown",
   "metadata": {},
   "source": [
    "## Cek informasi umum "
   ]
  },
  {
   "cell_type": "code",
   "execution_count": 243,
   "metadata": {},
   "outputs": [
    {
     "name": "stdout",
     "output_type": "stream",
     "text": [
      "<class 'pandas.core.frame.DataFrame'>\n",
      "RangeIndex: 607 entries, 0 to 606\n",
      "Data columns (total 10 columns):\n",
      " #   Column              Non-Null Count  Dtype \n",
      "---  ------              --------------  ----- \n",
      " 0   work_year           607 non-null    int64 \n",
      " 1   experience_level    607 non-null    object\n",
      " 2   employment_type     607 non-null    object\n",
      " 3   job_title           607 non-null    object\n",
      " 4   salary_currency     607 non-null    object\n",
      " 5   salary_in_usd       607 non-null    int64 \n",
      " 6   employee_residence  607 non-null    object\n",
      " 7   remote_ratio        607 non-null    int64 \n",
      " 8   company_location    607 non-null    object\n",
      " 9   company_size        607 non-null    object\n",
      "dtypes: int64(3), object(7)\n",
      "memory usage: 47.6+ KB\n"
     ]
    }
   ],
   "source": [
    "df.info() #pengecekan informasi umum pada dataframe"
   ]
  },
  {
   "cell_type": "markdown",
   "metadata": {},
   "source": [
    "Terdapat 607 data yang berhasil didapatkan\n",
    "\n",
    "berisi 11 kolom yang menjelaskan \n",
    "\n",
    "Tidak adanya Missing Value dari data yang didapatkan\n",
    "\n",
    "Tipe data yang tidak sesuai ada di kolom salary_in_usd dan salary yang harusnya float tapi didapatkan integer\n",
    "maka datatype yang didapat akan dilakukan handling terlebih dahulu"
   ]
  },
  {
   "cell_type": "markdown",
   "metadata": {},
   "source": [
    "## Penggantian type data"
   ]
  },
  {
   "cell_type": "code",
   "execution_count": 244,
   "metadata": {},
   "outputs": [],
   "source": [
    "#penggantian type data pada salary_in_usd menjadi float\n",
    "df['salary_in_usd'] = df['salary_in_usd'].astype(float)"
   ]
  },
  {
   "cell_type": "markdown",
   "metadata": {},
   "source": [
    "tipedata dari kolom salary in usd berhasil diubah menjadi float"
   ]
  },
  {
   "cell_type": "markdown",
   "metadata": {},
   "source": [
    "## Pengecekan unique value dan handlingnya"
   ]
  },
  {
   "cell_type": "markdown",
   "metadata": {},
   "source": [
    "Mencari tahu data yang berbeda beda atau ada yang sama tetapi menggunakan singkatan dan mengetahui negara negara yang nantinya akan dirubah menjadi nama lengkap"
   ]
  },
  {
   "cell_type": "code",
   "execution_count": 245,
   "metadata": {},
   "outputs": [
    {
     "name": "stdout",
     "output_type": "stream",
     "text": [
      "['Data Scientist' 'Machine Learning Scientist' 'Big Data Engineer'\n",
      " 'Product Data Analyst' 'Machine Learning Engineer' 'Data Analyst'\n",
      " 'Lead Data Scientist' 'Business Data Analyst' 'Lead Data Engineer'\n",
      " 'Lead Data Analyst' 'Data Engineer' 'Data Science Consultant'\n",
      " 'BI Data Analyst' 'Director of Data Science' 'Research Scientist'\n",
      " 'Machine Learning Manager' 'Data Engineering Manager'\n",
      " 'Machine Learning Infrastructure Engineer' 'ML Engineer' 'AI Scientist'\n",
      " 'Computer Vision Engineer' 'Principal Data Scientist'\n",
      " 'Data Science Manager' 'Head of Data' '3D Computer Vision Researcher'\n",
      " 'Data Analytics Engineer' 'Applied Data Scientist'\n",
      " 'Marketing Data Analyst' 'Cloud Data Engineer' 'Financial Data Analyst'\n",
      " 'Computer Vision Software Engineer' 'Director of Data Engineering'\n",
      " 'Data Science Engineer' 'Principal Data Engineer'\n",
      " 'Machine Learning Developer' 'Applied Machine Learning Scientist'\n",
      " 'Data Analytics Manager' 'Head of Data Science' 'Data Specialist'\n",
      " 'Data Architect' 'Finance Data Analyst' 'Principal Data Analyst'\n",
      " 'Big Data Architect' 'Staff Data Scientist' 'Analytics Engineer'\n",
      " 'ETL Developer' 'Head of Machine Learning' 'NLP Engineer'\n",
      " 'Lead Machine Learning Engineer' 'Data Analytics Lead']\n",
      "['DE' 'JP' 'GB' 'HN' 'US' 'HU' 'NZ' 'FR' 'IN' 'PK' 'CN' 'GR' 'AE' 'NL'\n",
      " 'MX' 'CA' 'AT' 'NG' 'ES' 'PT' 'DK' 'IT' 'HR' 'LU' 'PL' 'SG' 'RO' 'IQ'\n",
      " 'BR' 'BE' 'UA' 'IL' 'RU' 'MT' 'CL' 'IR' 'CO' 'MD' 'KE' 'SI' 'CH' 'VN'\n",
      " 'AS' 'TR' 'CZ' 'DZ' 'EE' 'MY' 'AU' 'IE']\n"
     ]
    }
   ],
   "source": [
    "a= df['job_title'].unique() #pengecekan unique value pada kolom jobtitle dan company location\n",
    "b= df['company_location'].unique()\n",
    "print(a)\n",
    "print(b)"
   ]
  },
  {
   "cell_type": "markdown",
   "metadata": {},
   "source": [
    "hasilnya ada data pekerjaan yang sama tetapi menggunakan singkatan\n",
    "\n",
    "dan\n",
    "\n",
    "Hasilnya negara masih dalamm bentuk 2 kode huruf dan ada "
   ]
  },
  {
   "cell_type": "markdown",
   "metadata": {},
   "source": [
    "Setelah data yang didapat diatas terdapat ML engineer yang artinya sama dengan Machine Learning Engineer, keberadaan ML engineer jika tidak dihandling dapat memberikan hasil yang beda dengan Machine Learning Engineer walaupun pekerjaannya sama "
   ]
  },
  {
   "cell_type": "code",
   "execution_count": 246,
   "metadata": {},
   "outputs": [],
   "source": [
    "df['job_title'] = df['job_title'].str.replace('ML', 'Machine Learning') #code ini berguna untuk mengganti kata ML yang asalnya singkatan diperjelas menjadi Machine Learning"
   ]
  },
  {
   "cell_type": "code",
   "execution_count": 247,
   "metadata": {},
   "outputs": [
    {
     "data": {
      "text/plain": [
       "array(['Data Scientist', 'Machine Learning Scientist',\n",
       "       'Big Data Engineer', 'Product Data Analyst',\n",
       "       'Machine Learning Engineer', 'Data Analyst', 'Lead Data Scientist',\n",
       "       'Business Data Analyst', 'Lead Data Engineer', 'Lead Data Analyst',\n",
       "       'Data Engineer', 'Data Science Consultant', 'BI Data Analyst',\n",
       "       'Director of Data Science', 'Research Scientist',\n",
       "       'Machine Learning Manager', 'Data Engineering Manager',\n",
       "       'Machine Learning Infrastructure Engineer', 'AI Scientist',\n",
       "       'Computer Vision Engineer', 'Principal Data Scientist',\n",
       "       'Data Science Manager', 'Head of Data',\n",
       "       '3D Computer Vision Researcher', 'Data Analytics Engineer',\n",
       "       'Applied Data Scientist', 'Marketing Data Analyst',\n",
       "       'Cloud Data Engineer', 'Financial Data Analyst',\n",
       "       'Computer Vision Software Engineer',\n",
       "       'Director of Data Engineering', 'Data Science Engineer',\n",
       "       'Principal Data Engineer', 'Machine Learning Developer',\n",
       "       'Applied Machine Learning Scientist', 'Data Analytics Manager',\n",
       "       'Head of Data Science', 'Data Specialist', 'Data Architect',\n",
       "       'Finance Data Analyst', 'Principal Data Analyst',\n",
       "       'Big Data Architect', 'Staff Data Scientist', 'Analytics Engineer',\n",
       "       'ETL Developer', 'Head of Machine Learning', 'NLP Engineer',\n",
       "       'Lead Machine Learning Engineer', 'Data Analytics Lead'],\n",
       "      dtype=object)"
      ]
     },
     "execution_count": 247,
     "metadata": {},
     "output_type": "execute_result"
    }
   ],
   "source": [
    "df['job_title'].unique() #Pengecekan unqiue value yang sudah dihandling"
   ]
  },
  {
   "cell_type": "markdown",
   "metadata": {},
   "source": [
    "Data ML engineer berhasil diubah menjadi Machine Learning Engineer"
   ]
  },
  {
   "cell_type": "markdown",
   "metadata": {},
   "source": [
    "### Pengelompokan Pekerjaan menjadi Data science,Data engineer, dan Data Analyst"
   ]
  },
  {
   "cell_type": "code",
   "execution_count": 248,
   "metadata": {},
   "outputs": [],
   "source": [
    "# Kategorisasi\n",
    "categories = []\n",
    "\n",
    "for job in df['job_title']:\n",
    "    lower_job = job.lower()\n",
    "    if 'engineer' in lower_job:\n",
    "        if 'analyst' in lower_job or 'analytics' in lower_job:\n",
    "            categories.append('Data Analyst')\n",
    "        else:\n",
    "            categories.append('Data Engineer')\n",
    "    elif 'analyst' in lower_job or 'analytics' in lower_job:\n",
    "        categories.append('Data Analyst')\n",
    "    elif 'scientist' in lower_job or 'science' in lower_job:\n",
    "        categories.append('Data Scientist')\n",
    "    else:\n",
    "        categories.append('Data Engineer')\n",
    "\n",
    "# Menambahkan kolom kategori ke DataFrame yang sudah ada\n",
    "df['Pekerjaan'] = categories\n",
    "\n"
   ]
  },
  {
   "cell_type": "code",
   "execution_count": 249,
   "metadata": {},
   "outputs": [
    {
     "data": {
      "text/html": [
       "<div>\n",
       "<style scoped>\n",
       "    .dataframe tbody tr th:only-of-type {\n",
       "        vertical-align: middle;\n",
       "    }\n",
       "\n",
       "    .dataframe tbody tr th {\n",
       "        vertical-align: top;\n",
       "    }\n",
       "\n",
       "    .dataframe thead th {\n",
       "        text-align: right;\n",
       "    }\n",
       "</style>\n",
       "<table border=\"1\" class=\"dataframe\">\n",
       "  <thead>\n",
       "    <tr style=\"text-align: right;\">\n",
       "      <th></th>\n",
       "      <th>work_year</th>\n",
       "      <th>experience_level</th>\n",
       "      <th>employment_type</th>\n",
       "      <th>job_title</th>\n",
       "      <th>salary_currency</th>\n",
       "      <th>salary_in_usd</th>\n",
       "      <th>employee_residence</th>\n",
       "      <th>remote_ratio</th>\n",
       "      <th>company_location</th>\n",
       "      <th>company_size</th>\n",
       "      <th>Pekerjaan</th>\n",
       "    </tr>\n",
       "  </thead>\n",
       "  <tbody>\n",
       "    <tr>\n",
       "      <th>0</th>\n",
       "      <td>2020</td>\n",
       "      <td>MI</td>\n",
       "      <td>FT</td>\n",
       "      <td>Data Scientist</td>\n",
       "      <td>EUR</td>\n",
       "      <td>79833.0</td>\n",
       "      <td>DE</td>\n",
       "      <td>0</td>\n",
       "      <td>DE</td>\n",
       "      <td>L</td>\n",
       "      <td>Data Scientist</td>\n",
       "    </tr>\n",
       "    <tr>\n",
       "      <th>1</th>\n",
       "      <td>2020</td>\n",
       "      <td>SE</td>\n",
       "      <td>FT</td>\n",
       "      <td>Machine Learning Scientist</td>\n",
       "      <td>USD</td>\n",
       "      <td>260000.0</td>\n",
       "      <td>JP</td>\n",
       "      <td>0</td>\n",
       "      <td>JP</td>\n",
       "      <td>S</td>\n",
       "      <td>Data Scientist</td>\n",
       "    </tr>\n",
       "    <tr>\n",
       "      <th>2</th>\n",
       "      <td>2020</td>\n",
       "      <td>SE</td>\n",
       "      <td>FT</td>\n",
       "      <td>Big Data Engineer</td>\n",
       "      <td>GBP</td>\n",
       "      <td>109024.0</td>\n",
       "      <td>GB</td>\n",
       "      <td>50</td>\n",
       "      <td>GB</td>\n",
       "      <td>M</td>\n",
       "      <td>Data Engineer</td>\n",
       "    </tr>\n",
       "    <tr>\n",
       "      <th>3</th>\n",
       "      <td>2020</td>\n",
       "      <td>MI</td>\n",
       "      <td>FT</td>\n",
       "      <td>Product Data Analyst</td>\n",
       "      <td>USD</td>\n",
       "      <td>20000.0</td>\n",
       "      <td>HN</td>\n",
       "      <td>0</td>\n",
       "      <td>HN</td>\n",
       "      <td>S</td>\n",
       "      <td>Data Analyst</td>\n",
       "    </tr>\n",
       "    <tr>\n",
       "      <th>4</th>\n",
       "      <td>2020</td>\n",
       "      <td>SE</td>\n",
       "      <td>FT</td>\n",
       "      <td>Machine Learning Engineer</td>\n",
       "      <td>USD</td>\n",
       "      <td>150000.0</td>\n",
       "      <td>US</td>\n",
       "      <td>50</td>\n",
       "      <td>US</td>\n",
       "      <td>L</td>\n",
       "      <td>Data Engineer</td>\n",
       "    </tr>\n",
       "    <tr>\n",
       "      <th>...</th>\n",
       "      <td>...</td>\n",
       "      <td>...</td>\n",
       "      <td>...</td>\n",
       "      <td>...</td>\n",
       "      <td>...</td>\n",
       "      <td>...</td>\n",
       "      <td>...</td>\n",
       "      <td>...</td>\n",
       "      <td>...</td>\n",
       "      <td>...</td>\n",
       "      <td>...</td>\n",
       "    </tr>\n",
       "    <tr>\n",
       "      <th>602</th>\n",
       "      <td>2022</td>\n",
       "      <td>SE</td>\n",
       "      <td>FT</td>\n",
       "      <td>Data Engineer</td>\n",
       "      <td>USD</td>\n",
       "      <td>154000.0</td>\n",
       "      <td>US</td>\n",
       "      <td>100</td>\n",
       "      <td>US</td>\n",
       "      <td>M</td>\n",
       "      <td>Data Engineer</td>\n",
       "    </tr>\n",
       "    <tr>\n",
       "      <th>603</th>\n",
       "      <td>2022</td>\n",
       "      <td>SE</td>\n",
       "      <td>FT</td>\n",
       "      <td>Data Engineer</td>\n",
       "      <td>USD</td>\n",
       "      <td>126000.0</td>\n",
       "      <td>US</td>\n",
       "      <td>100</td>\n",
       "      <td>US</td>\n",
       "      <td>M</td>\n",
       "      <td>Data Engineer</td>\n",
       "    </tr>\n",
       "    <tr>\n",
       "      <th>604</th>\n",
       "      <td>2022</td>\n",
       "      <td>SE</td>\n",
       "      <td>FT</td>\n",
       "      <td>Data Analyst</td>\n",
       "      <td>USD</td>\n",
       "      <td>129000.0</td>\n",
       "      <td>US</td>\n",
       "      <td>0</td>\n",
       "      <td>US</td>\n",
       "      <td>M</td>\n",
       "      <td>Data Analyst</td>\n",
       "    </tr>\n",
       "    <tr>\n",
       "      <th>605</th>\n",
       "      <td>2022</td>\n",
       "      <td>SE</td>\n",
       "      <td>FT</td>\n",
       "      <td>Data Analyst</td>\n",
       "      <td>USD</td>\n",
       "      <td>150000.0</td>\n",
       "      <td>US</td>\n",
       "      <td>100</td>\n",
       "      <td>US</td>\n",
       "      <td>M</td>\n",
       "      <td>Data Analyst</td>\n",
       "    </tr>\n",
       "    <tr>\n",
       "      <th>606</th>\n",
       "      <td>2022</td>\n",
       "      <td>MI</td>\n",
       "      <td>FT</td>\n",
       "      <td>AI Scientist</td>\n",
       "      <td>USD</td>\n",
       "      <td>200000.0</td>\n",
       "      <td>IN</td>\n",
       "      <td>100</td>\n",
       "      <td>US</td>\n",
       "      <td>L</td>\n",
       "      <td>Data Scientist</td>\n",
       "    </tr>\n",
       "  </tbody>\n",
       "</table>\n",
       "<p>607 rows × 11 columns</p>\n",
       "</div>"
      ],
      "text/plain": [
       "     work_year experience_level employment_type                   job_title  \\\n",
       "0         2020               MI              FT              Data Scientist   \n",
       "1         2020               SE              FT  Machine Learning Scientist   \n",
       "2         2020               SE              FT           Big Data Engineer   \n",
       "3         2020               MI              FT        Product Data Analyst   \n",
       "4         2020               SE              FT   Machine Learning Engineer   \n",
       "..         ...              ...             ...                         ...   \n",
       "602       2022               SE              FT               Data Engineer   \n",
       "603       2022               SE              FT               Data Engineer   \n",
       "604       2022               SE              FT                Data Analyst   \n",
       "605       2022               SE              FT                Data Analyst   \n",
       "606       2022               MI              FT                AI Scientist   \n",
       "\n",
       "    salary_currency  salary_in_usd employee_residence  remote_ratio  \\\n",
       "0               EUR        79833.0                 DE             0   \n",
       "1               USD       260000.0                 JP             0   \n",
       "2               GBP       109024.0                 GB            50   \n",
       "3               USD        20000.0                 HN             0   \n",
       "4               USD       150000.0                 US            50   \n",
       "..              ...            ...                ...           ...   \n",
       "602             USD       154000.0                 US           100   \n",
       "603             USD       126000.0                 US           100   \n",
       "604             USD       129000.0                 US             0   \n",
       "605             USD       150000.0                 US           100   \n",
       "606             USD       200000.0                 IN           100   \n",
       "\n",
       "    company_location company_size       Pekerjaan  \n",
       "0                 DE            L  Data Scientist  \n",
       "1                 JP            S  Data Scientist  \n",
       "2                 GB            M   Data Engineer  \n",
       "3                 HN            S    Data Analyst  \n",
       "4                 US            L   Data Engineer  \n",
       "..               ...          ...             ...  \n",
       "602               US            M   Data Engineer  \n",
       "603               US            M   Data Engineer  \n",
       "604               US            M    Data Analyst  \n",
       "605               US            M    Data Analyst  \n",
       "606               US            L  Data Scientist  \n",
       "\n",
       "[607 rows x 11 columns]"
      ]
     },
     "execution_count": 249,
     "metadata": {},
     "output_type": "execute_result"
    }
   ],
   "source": [
    "df #pengecekan dataframe baru dengan penambahan kolom Pekerjaan"
   ]
  },
  {
   "cell_type": "markdown",
   "metadata": {},
   "source": [
    "Kemudian perubahan nama negara yang asalnya 2 kode negara menjadi nama negara yang lengkap yang bertujuan untuk data terbaca pada saat visualisasi mapping"
   ]
  },
  {
   "cell_type": "code",
   "execution_count": 250,
   "metadata": {},
   "outputs": [],
   "source": [
    "country= {\n",
    "    'DE': 'Germany', 'JP': 'Japan', 'GB': 'United Kingdom', 'HN': 'Honduras', \n",
    "    'US': 'United States', 'HU': 'Hungary', 'NZ': 'New Zealand', 'FR': 'France', \n",
    "    'IN': 'India', 'PK': 'Pakistan', 'CN': 'China', 'GR': 'Greece', 'AE': 'United Arab Emirates', \n",
    "    'NL': 'Netherlands', 'MX': 'Mexico', 'CA': 'Canada', 'AT': 'Austria', 'NG': 'Nigeria', \n",
    "    'ES': 'Spain', 'PT': 'Portugal', 'DK': 'Denmark', 'IT': 'Italy', 'HR': 'Croatia', \n",
    "    'LU': 'Luxembourg', 'PL': 'Poland', 'SG': 'Singapore', 'RO': 'Romania', 'IQ': 'Iraq', \n",
    "    'BR': 'Brazil', 'BE': 'Belgium', 'UA': 'Ukraine', 'IL': 'Israel', 'RU': 'Russia', \n",
    "    'MT': 'Malta', 'CL': 'Chile', 'IR': 'Iran', 'CO': 'Colombia', 'MD': 'Moldova', \n",
    "    'KE': 'Kenya', 'SI': 'Slovenia', 'CH': 'Switzerland', 'VN': 'Vietnam', 'AS': 'American Samoa', \n",
    "    'TR': 'Turkey', 'CZ': 'Czech Republic', 'DZ': 'Algeria', 'EE': 'Estonia', \n",
    "    'MY': 'Malaysia', 'AU': 'Australia', 'IE': 'Ireland'\n",
    "}\n",
    "\n",
    "df['company_location'] = df['company_location'].replace(country)\n",
    "#code untuk penggantian singkatan negara menjadi nama lengkap sebuah negara"
   ]
  },
  {
   "cell_type": "code",
   "execution_count": 251,
   "metadata": {},
   "outputs": [
    {
     "data": {
      "text/plain": [
       "array(['Germany', 'Japan', 'United Kingdom', 'Honduras', 'United States',\n",
       "       'Hungary', 'New Zealand', 'France', 'India', 'Pakistan', 'China',\n",
       "       'Greece', 'United Arab Emirates', 'Netherlands', 'Mexico',\n",
       "       'Canada', 'Austria', 'Nigeria', 'Spain', 'Portugal', 'Denmark',\n",
       "       'Italy', 'Croatia', 'Luxembourg', 'Poland', 'Singapore', 'Romania',\n",
       "       'Iraq', 'Brazil', 'Belgium', 'Ukraine', 'Israel', 'Russia',\n",
       "       'Malta', 'Chile', 'Iran', 'Colombia', 'Moldova', 'Kenya',\n",
       "       'Slovenia', 'Switzerland', 'Vietnam', 'American Samoa', 'Turkey',\n",
       "       'Czech Republic', 'Algeria', 'Estonia', 'Malaysia', 'Australia',\n",
       "       'Ireland'], dtype=object)"
      ]
     },
     "execution_count": 251,
     "metadata": {},
     "output_type": "execute_result"
    }
   ],
   "source": [
    "df['company_location'].unique() # pengecekan nama negara setelah dihandling"
   ]
  },
  {
   "cell_type": "code",
   "execution_count": 252,
   "metadata": {},
   "outputs": [],
   "source": [
    "# List negara berdasarkan benua\n",
    "europe = ['Germany', 'Ireland', 'Estonia', 'Czech Republic', 'Switzerland', \n",
    "          'Slovenia', 'Moldova', 'Malta', 'Russia', 'United Kingdom', 'Hungary', \n",
    "          'France', 'Spain', 'Austria', 'Ukraine', 'Belgium', 'Romania', 'Poland', \n",
    "          'Luxembourg', 'Croatia', 'Italy', 'Portugal', 'Denmark','Greece','Netherlands']\n",
    "asia = ['Japan', 'Turkey', 'New Zealand', 'Australia', 'Malaysia', \n",
    "        'Vietnam', 'Iran', 'Israel', 'Singapore', 'United Arab Emirates', \n",
    "        'China', 'Pakistan', 'India','Iraq']\n",
    "afrika = ['Nigeria', 'Algeria', 'Kenya']\n",
    "amerika = ['United States', 'Mexico', 'Canada', 'Honduras', 'Brazil', 'Chile', \n",
    "            'Colombia']\n",
    "\n",
    "# kategorisasi berdasarkan benua\n",
    "continent = []\n",
    "\n",
    "for location in df['company_location']:\n",
    "    lower_location = location.lower()\n",
    "    \n",
    "    if any(country.lower() in lower_location for country in europe):\n",
    "        continent.append('Eropa')\n",
    "    elif any(country.lower() in lower_location for country in asia):\n",
    "        continent.append('Asia')\n",
    "    elif any(country.lower() in lower_location for country in afrika):\n",
    "        continent.append('Afrika')\n",
    "    elif any(country.lower() in lower_location for country in amerika):\n",
    "        continent.append('Amerika')\n",
    "    else:\n",
    "        continent.append('Other')  #selain 4 benua diatas dimasukan ke others\n",
    "\n",
    "# Add the continent column to the DataFrame\n",
    "df['Benua'] = continent\n"
   ]
  },
  {
   "cell_type": "markdown",
   "metadata": {},
   "source": [
    "Nama nama negara sudah sesuai untuk tujuan visualisasi mapping nantinya"
   ]
  },
  {
   "cell_type": "code",
   "execution_count": 253,
   "metadata": {},
   "outputs": [
    {
     "data": {
      "text/html": [
       "<div>\n",
       "<style scoped>\n",
       "    .dataframe tbody tr th:only-of-type {\n",
       "        vertical-align: middle;\n",
       "    }\n",
       "\n",
       "    .dataframe tbody tr th {\n",
       "        vertical-align: top;\n",
       "    }\n",
       "\n",
       "    .dataframe thead th {\n",
       "        text-align: right;\n",
       "    }\n",
       "</style>\n",
       "<table border=\"1\" class=\"dataframe\">\n",
       "  <thead>\n",
       "    <tr style=\"text-align: right;\">\n",
       "      <th></th>\n",
       "      <th>work_year</th>\n",
       "      <th>experience_level</th>\n",
       "      <th>employment_type</th>\n",
       "      <th>job_title</th>\n",
       "      <th>salary_currency</th>\n",
       "      <th>salary_in_usd</th>\n",
       "      <th>employee_residence</th>\n",
       "      <th>remote_ratio</th>\n",
       "      <th>company_location</th>\n",
       "      <th>company_size</th>\n",
       "      <th>Pekerjaan</th>\n",
       "      <th>Benua</th>\n",
       "    </tr>\n",
       "  </thead>\n",
       "  <tbody>\n",
       "    <tr>\n",
       "      <th>0</th>\n",
       "      <td>2020</td>\n",
       "      <td>MI</td>\n",
       "      <td>FT</td>\n",
       "      <td>Data Scientist</td>\n",
       "      <td>EUR</td>\n",
       "      <td>79833.0</td>\n",
       "      <td>DE</td>\n",
       "      <td>0</td>\n",
       "      <td>Germany</td>\n",
       "      <td>L</td>\n",
       "      <td>Data Scientist</td>\n",
       "      <td>Eropa</td>\n",
       "    </tr>\n",
       "    <tr>\n",
       "      <th>1</th>\n",
       "      <td>2020</td>\n",
       "      <td>SE</td>\n",
       "      <td>FT</td>\n",
       "      <td>Machine Learning Scientist</td>\n",
       "      <td>USD</td>\n",
       "      <td>260000.0</td>\n",
       "      <td>JP</td>\n",
       "      <td>0</td>\n",
       "      <td>Japan</td>\n",
       "      <td>S</td>\n",
       "      <td>Data Scientist</td>\n",
       "      <td>Asia</td>\n",
       "    </tr>\n",
       "    <tr>\n",
       "      <th>2</th>\n",
       "      <td>2020</td>\n",
       "      <td>SE</td>\n",
       "      <td>FT</td>\n",
       "      <td>Big Data Engineer</td>\n",
       "      <td>GBP</td>\n",
       "      <td>109024.0</td>\n",
       "      <td>GB</td>\n",
       "      <td>50</td>\n",
       "      <td>United Kingdom</td>\n",
       "      <td>M</td>\n",
       "      <td>Data Engineer</td>\n",
       "      <td>Eropa</td>\n",
       "    </tr>\n",
       "    <tr>\n",
       "      <th>3</th>\n",
       "      <td>2020</td>\n",
       "      <td>MI</td>\n",
       "      <td>FT</td>\n",
       "      <td>Product Data Analyst</td>\n",
       "      <td>USD</td>\n",
       "      <td>20000.0</td>\n",
       "      <td>HN</td>\n",
       "      <td>0</td>\n",
       "      <td>Honduras</td>\n",
       "      <td>S</td>\n",
       "      <td>Data Analyst</td>\n",
       "      <td>Amerika</td>\n",
       "    </tr>\n",
       "    <tr>\n",
       "      <th>4</th>\n",
       "      <td>2020</td>\n",
       "      <td>SE</td>\n",
       "      <td>FT</td>\n",
       "      <td>Machine Learning Engineer</td>\n",
       "      <td>USD</td>\n",
       "      <td>150000.0</td>\n",
       "      <td>US</td>\n",
       "      <td>50</td>\n",
       "      <td>United States</td>\n",
       "      <td>L</td>\n",
       "      <td>Data Engineer</td>\n",
       "      <td>Amerika</td>\n",
       "    </tr>\n",
       "    <tr>\n",
       "      <th>...</th>\n",
       "      <td>...</td>\n",
       "      <td>...</td>\n",
       "      <td>...</td>\n",
       "      <td>...</td>\n",
       "      <td>...</td>\n",
       "      <td>...</td>\n",
       "      <td>...</td>\n",
       "      <td>...</td>\n",
       "      <td>...</td>\n",
       "      <td>...</td>\n",
       "      <td>...</td>\n",
       "      <td>...</td>\n",
       "    </tr>\n",
       "    <tr>\n",
       "      <th>602</th>\n",
       "      <td>2022</td>\n",
       "      <td>SE</td>\n",
       "      <td>FT</td>\n",
       "      <td>Data Engineer</td>\n",
       "      <td>USD</td>\n",
       "      <td>154000.0</td>\n",
       "      <td>US</td>\n",
       "      <td>100</td>\n",
       "      <td>United States</td>\n",
       "      <td>M</td>\n",
       "      <td>Data Engineer</td>\n",
       "      <td>Amerika</td>\n",
       "    </tr>\n",
       "    <tr>\n",
       "      <th>603</th>\n",
       "      <td>2022</td>\n",
       "      <td>SE</td>\n",
       "      <td>FT</td>\n",
       "      <td>Data Engineer</td>\n",
       "      <td>USD</td>\n",
       "      <td>126000.0</td>\n",
       "      <td>US</td>\n",
       "      <td>100</td>\n",
       "      <td>United States</td>\n",
       "      <td>M</td>\n",
       "      <td>Data Engineer</td>\n",
       "      <td>Amerika</td>\n",
       "    </tr>\n",
       "    <tr>\n",
       "      <th>604</th>\n",
       "      <td>2022</td>\n",
       "      <td>SE</td>\n",
       "      <td>FT</td>\n",
       "      <td>Data Analyst</td>\n",
       "      <td>USD</td>\n",
       "      <td>129000.0</td>\n",
       "      <td>US</td>\n",
       "      <td>0</td>\n",
       "      <td>United States</td>\n",
       "      <td>M</td>\n",
       "      <td>Data Analyst</td>\n",
       "      <td>Amerika</td>\n",
       "    </tr>\n",
       "    <tr>\n",
       "      <th>605</th>\n",
       "      <td>2022</td>\n",
       "      <td>SE</td>\n",
       "      <td>FT</td>\n",
       "      <td>Data Analyst</td>\n",
       "      <td>USD</td>\n",
       "      <td>150000.0</td>\n",
       "      <td>US</td>\n",
       "      <td>100</td>\n",
       "      <td>United States</td>\n",
       "      <td>M</td>\n",
       "      <td>Data Analyst</td>\n",
       "      <td>Amerika</td>\n",
       "    </tr>\n",
       "    <tr>\n",
       "      <th>606</th>\n",
       "      <td>2022</td>\n",
       "      <td>MI</td>\n",
       "      <td>FT</td>\n",
       "      <td>AI Scientist</td>\n",
       "      <td>USD</td>\n",
       "      <td>200000.0</td>\n",
       "      <td>IN</td>\n",
       "      <td>100</td>\n",
       "      <td>United States</td>\n",
       "      <td>L</td>\n",
       "      <td>Data Scientist</td>\n",
       "      <td>Amerika</td>\n",
       "    </tr>\n",
       "  </tbody>\n",
       "</table>\n",
       "<p>607 rows × 12 columns</p>\n",
       "</div>"
      ],
      "text/plain": [
       "     work_year experience_level employment_type                   job_title  \\\n",
       "0         2020               MI              FT              Data Scientist   \n",
       "1         2020               SE              FT  Machine Learning Scientist   \n",
       "2         2020               SE              FT           Big Data Engineer   \n",
       "3         2020               MI              FT        Product Data Analyst   \n",
       "4         2020               SE              FT   Machine Learning Engineer   \n",
       "..         ...              ...             ...                         ...   \n",
       "602       2022               SE              FT               Data Engineer   \n",
       "603       2022               SE              FT               Data Engineer   \n",
       "604       2022               SE              FT                Data Analyst   \n",
       "605       2022               SE              FT                Data Analyst   \n",
       "606       2022               MI              FT                AI Scientist   \n",
       "\n",
       "    salary_currency  salary_in_usd employee_residence  remote_ratio  \\\n",
       "0               EUR        79833.0                 DE             0   \n",
       "1               USD       260000.0                 JP             0   \n",
       "2               GBP       109024.0                 GB            50   \n",
       "3               USD        20000.0                 HN             0   \n",
       "4               USD       150000.0                 US            50   \n",
       "..              ...            ...                ...           ...   \n",
       "602             USD       154000.0                 US           100   \n",
       "603             USD       126000.0                 US           100   \n",
       "604             USD       129000.0                 US             0   \n",
       "605             USD       150000.0                 US           100   \n",
       "606             USD       200000.0                 IN           100   \n",
       "\n",
       "    company_location company_size       Pekerjaan    Benua  \n",
       "0            Germany            L  Data Scientist    Eropa  \n",
       "1              Japan            S  Data Scientist     Asia  \n",
       "2     United Kingdom            M   Data Engineer    Eropa  \n",
       "3           Honduras            S    Data Analyst  Amerika  \n",
       "4      United States            L   Data Engineer  Amerika  \n",
       "..               ...          ...             ...      ...  \n",
       "602    United States            M   Data Engineer  Amerika  \n",
       "603    United States            M   Data Engineer  Amerika  \n",
       "604    United States            M    Data Analyst  Amerika  \n",
       "605    United States            M    Data Analyst  Amerika  \n",
       "606    United States            L  Data Scientist  Amerika  \n",
       "\n",
       "[607 rows x 12 columns]"
      ]
     },
     "execution_count": 253,
     "metadata": {},
     "output_type": "execute_result"
    }
   ],
   "source": [
    "df #pengecekan dataframe sebelum dianalisa lebih lanjut sudah sesuai dengan yang diinginkan atau belum"
   ]
  },
  {
   "cell_type": "code",
   "execution_count": 254,
   "metadata": {},
   "outputs": [
    {
     "data": {
      "text/plain": [
       "array(['Eropa', 'Asia', 'Amerika', 'Afrika', 'Other'], dtype=object)"
      ]
     },
     "execution_count": 254,
     "metadata": {},
     "output_type": "execute_result"
    }
   ],
   "source": [
    "df['Benua'].unique() #mengecek unique valu yang ada di kolom tersebut"
   ]
  },
  {
   "cell_type": "code",
   "execution_count": 255,
   "metadata": {},
   "outputs": [
    {
     "data": {
      "text/plain": [
       "array(['FT', 'CT', 'PT', 'FL'], dtype=object)"
      ]
     },
     "execution_count": 255,
     "metadata": {},
     "output_type": "execute_result"
    }
   ],
   "source": [
    "#mengecek unique valu yang ada di kolom tersebut\n",
    "df['employment_type'].unique()"
   ]
  },
  {
   "cell_type": "markdown",
   "metadata": {},
   "source": [
    "Singkatan diubah menjadi nama panjang"
   ]
  },
  {
   "cell_type": "code",
   "execution_count": 256,
   "metadata": {},
   "outputs": [],
   "source": [
    "employment= {\n",
    "    'FT': 'FullTime', 'CT': 'Contract', 'PT': 'PartTime', 'FL': 'FreeLance'\n",
    "}\n",
    "\n",
    "df['employment_type'] = df['employment_type'].replace(employment) #mengganti singkatan menjadi nama jelas"
   ]
  },
  {
   "cell_type": "code",
   "execution_count": 257,
   "metadata": {},
   "outputs": [
    {
     "data": {
      "text/plain": [
       "array(['FullTime', 'Contract', 'PartTime', 'FreeLance'], dtype=object)"
      ]
     },
     "execution_count": 257,
     "metadata": {},
     "output_type": "execute_result"
    }
   ],
   "source": [
    "#mengecek kembali kolom yang sudah dihandling\n",
    "df['employment_type'].unique()"
   ]
  },
  {
   "cell_type": "markdown",
   "metadata": {},
   "source": [
    "Pemberitahuan informasi melalui unique value pada singkatan yang ada di kolom experience level"
   ]
  },
  {
   "cell_type": "code",
   "execution_count": 258,
   "metadata": {},
   "outputs": [
    {
     "data": {
      "text/plain": [
       "array(['MI', 'SE', 'EN', 'EX'], dtype=object)"
      ]
     },
     "execution_count": 258,
     "metadata": {},
     "output_type": "execute_result"
    }
   ],
   "source": [
    "df['experience_level'].unique() #mengecek unique valu yang ada di kolom tersebut"
   ]
  },
  {
   "cell_type": "markdown",
   "metadata": {},
   "source": [
    "Singkatan diubah menjadi nama panjang"
   ]
  },
  {
   "cell_type": "code",
   "execution_count": 259,
   "metadata": {},
   "outputs": [],
   "source": [
    "experience= {\n",
    "    'MI': 'Mid-Level', 'SE': 'Senior-Level', 'EN': 'Entry-Level', 'EX': 'Expert-Level'\n",
    "}\n",
    "\n",
    "df['experience_level'] = df['experience_level'].replace(experience) #mengganti singkatan menjadi nama jelas"
   ]
  },
  {
   "cell_type": "code",
   "execution_count": 260,
   "metadata": {},
   "outputs": [
    {
     "data": {
      "text/plain": [
       "array(['Mid-Level', 'Senior-Level', 'Entry-Level', 'Expert-Level'],\n",
       "      dtype=object)"
      ]
     },
     "execution_count": 260,
     "metadata": {},
     "output_type": "execute_result"
    }
   ],
   "source": [
    "#mengecek kembali kolom yang sudah dihandling\n",
    "df['experience_level'].unique()"
   ]
  },
  {
   "cell_type": "code",
   "execution_count": 261,
   "metadata": {},
   "outputs": [
    {
     "data": {
      "text/plain": [
       "array(['L', 'S', 'M'], dtype=object)"
      ]
     },
     "execution_count": 261,
     "metadata": {},
     "output_type": "execute_result"
    }
   ],
   "source": [
    "df['company_size'].unique() #mengecek unique valu yang ada di kolom tersebut"
   ]
  },
  {
   "cell_type": "markdown",
   "metadata": {},
   "source": [
    "Singkatan diubah menjadi nama panjang"
   ]
  },
  {
   "cell_type": "code",
   "execution_count": 262,
   "metadata": {},
   "outputs": [],
   "source": [
    "company= {\n",
    "    'S': 'Small', 'M': 'Medium', 'L': 'Large',\n",
    "}\n",
    "\n",
    "df['company_size'] = df['company_size'].replace(company) #mengganti singkatan menjadi nama jelas"
   ]
  },
  {
   "cell_type": "code",
   "execution_count": 263,
   "metadata": {},
   "outputs": [
    {
     "data": {
      "text/plain": [
       "array(['Large', 'Small', 'Medium'], dtype=object)"
      ]
     },
     "execution_count": 263,
     "metadata": {},
     "output_type": "execute_result"
    }
   ],
   "source": [
    " #mengecek unique valu yang ada di kolom tersebut\n",
    "df['company_size'].unique() "
   ]
  },
  {
   "cell_type": "code",
   "execution_count": 264,
   "metadata": {},
   "outputs": [
    {
     "data": {
      "text/html": [
       "<div>\n",
       "<style scoped>\n",
       "    .dataframe tbody tr th:only-of-type {\n",
       "        vertical-align: middle;\n",
       "    }\n",
       "\n",
       "    .dataframe tbody tr th {\n",
       "        vertical-align: top;\n",
       "    }\n",
       "\n",
       "    .dataframe thead th {\n",
       "        text-align: right;\n",
       "    }\n",
       "</style>\n",
       "<table border=\"1\" class=\"dataframe\">\n",
       "  <thead>\n",
       "    <tr style=\"text-align: right;\">\n",
       "      <th></th>\n",
       "      <th>work_year</th>\n",
       "      <th>experience_level</th>\n",
       "      <th>employment_type</th>\n",
       "      <th>job_title</th>\n",
       "      <th>salary_currency</th>\n",
       "      <th>salary_in_usd</th>\n",
       "      <th>employee_residence</th>\n",
       "      <th>remote_ratio</th>\n",
       "      <th>company_location</th>\n",
       "      <th>company_size</th>\n",
       "      <th>Pekerjaan</th>\n",
       "      <th>Benua</th>\n",
       "    </tr>\n",
       "  </thead>\n",
       "  <tbody>\n",
       "    <tr>\n",
       "      <th>0</th>\n",
       "      <td>2020</td>\n",
       "      <td>Mid-Level</td>\n",
       "      <td>FullTime</td>\n",
       "      <td>Data Scientist</td>\n",
       "      <td>EUR</td>\n",
       "      <td>79833.0</td>\n",
       "      <td>DE</td>\n",
       "      <td>0</td>\n",
       "      <td>Germany</td>\n",
       "      <td>Large</td>\n",
       "      <td>Data Scientist</td>\n",
       "      <td>Eropa</td>\n",
       "    </tr>\n",
       "    <tr>\n",
       "      <th>1</th>\n",
       "      <td>2020</td>\n",
       "      <td>Senior-Level</td>\n",
       "      <td>FullTime</td>\n",
       "      <td>Machine Learning Scientist</td>\n",
       "      <td>USD</td>\n",
       "      <td>260000.0</td>\n",
       "      <td>JP</td>\n",
       "      <td>0</td>\n",
       "      <td>Japan</td>\n",
       "      <td>Small</td>\n",
       "      <td>Data Scientist</td>\n",
       "      <td>Asia</td>\n",
       "    </tr>\n",
       "    <tr>\n",
       "      <th>2</th>\n",
       "      <td>2020</td>\n",
       "      <td>Senior-Level</td>\n",
       "      <td>FullTime</td>\n",
       "      <td>Big Data Engineer</td>\n",
       "      <td>GBP</td>\n",
       "      <td>109024.0</td>\n",
       "      <td>GB</td>\n",
       "      <td>50</td>\n",
       "      <td>United Kingdom</td>\n",
       "      <td>Medium</td>\n",
       "      <td>Data Engineer</td>\n",
       "      <td>Eropa</td>\n",
       "    </tr>\n",
       "    <tr>\n",
       "      <th>3</th>\n",
       "      <td>2020</td>\n",
       "      <td>Mid-Level</td>\n",
       "      <td>FullTime</td>\n",
       "      <td>Product Data Analyst</td>\n",
       "      <td>USD</td>\n",
       "      <td>20000.0</td>\n",
       "      <td>HN</td>\n",
       "      <td>0</td>\n",
       "      <td>Honduras</td>\n",
       "      <td>Small</td>\n",
       "      <td>Data Analyst</td>\n",
       "      <td>Amerika</td>\n",
       "    </tr>\n",
       "    <tr>\n",
       "      <th>4</th>\n",
       "      <td>2020</td>\n",
       "      <td>Senior-Level</td>\n",
       "      <td>FullTime</td>\n",
       "      <td>Machine Learning Engineer</td>\n",
       "      <td>USD</td>\n",
       "      <td>150000.0</td>\n",
       "      <td>US</td>\n",
       "      <td>50</td>\n",
       "      <td>United States</td>\n",
       "      <td>Large</td>\n",
       "      <td>Data Engineer</td>\n",
       "      <td>Amerika</td>\n",
       "    </tr>\n",
       "    <tr>\n",
       "      <th>...</th>\n",
       "      <td>...</td>\n",
       "      <td>...</td>\n",
       "      <td>...</td>\n",
       "      <td>...</td>\n",
       "      <td>...</td>\n",
       "      <td>...</td>\n",
       "      <td>...</td>\n",
       "      <td>...</td>\n",
       "      <td>...</td>\n",
       "      <td>...</td>\n",
       "      <td>...</td>\n",
       "      <td>...</td>\n",
       "    </tr>\n",
       "    <tr>\n",
       "      <th>602</th>\n",
       "      <td>2022</td>\n",
       "      <td>Senior-Level</td>\n",
       "      <td>FullTime</td>\n",
       "      <td>Data Engineer</td>\n",
       "      <td>USD</td>\n",
       "      <td>154000.0</td>\n",
       "      <td>US</td>\n",
       "      <td>100</td>\n",
       "      <td>United States</td>\n",
       "      <td>Medium</td>\n",
       "      <td>Data Engineer</td>\n",
       "      <td>Amerika</td>\n",
       "    </tr>\n",
       "    <tr>\n",
       "      <th>603</th>\n",
       "      <td>2022</td>\n",
       "      <td>Senior-Level</td>\n",
       "      <td>FullTime</td>\n",
       "      <td>Data Engineer</td>\n",
       "      <td>USD</td>\n",
       "      <td>126000.0</td>\n",
       "      <td>US</td>\n",
       "      <td>100</td>\n",
       "      <td>United States</td>\n",
       "      <td>Medium</td>\n",
       "      <td>Data Engineer</td>\n",
       "      <td>Amerika</td>\n",
       "    </tr>\n",
       "    <tr>\n",
       "      <th>604</th>\n",
       "      <td>2022</td>\n",
       "      <td>Senior-Level</td>\n",
       "      <td>FullTime</td>\n",
       "      <td>Data Analyst</td>\n",
       "      <td>USD</td>\n",
       "      <td>129000.0</td>\n",
       "      <td>US</td>\n",
       "      <td>0</td>\n",
       "      <td>United States</td>\n",
       "      <td>Medium</td>\n",
       "      <td>Data Analyst</td>\n",
       "      <td>Amerika</td>\n",
       "    </tr>\n",
       "    <tr>\n",
       "      <th>605</th>\n",
       "      <td>2022</td>\n",
       "      <td>Senior-Level</td>\n",
       "      <td>FullTime</td>\n",
       "      <td>Data Analyst</td>\n",
       "      <td>USD</td>\n",
       "      <td>150000.0</td>\n",
       "      <td>US</td>\n",
       "      <td>100</td>\n",
       "      <td>United States</td>\n",
       "      <td>Medium</td>\n",
       "      <td>Data Analyst</td>\n",
       "      <td>Amerika</td>\n",
       "    </tr>\n",
       "    <tr>\n",
       "      <th>606</th>\n",
       "      <td>2022</td>\n",
       "      <td>Mid-Level</td>\n",
       "      <td>FullTime</td>\n",
       "      <td>AI Scientist</td>\n",
       "      <td>USD</td>\n",
       "      <td>200000.0</td>\n",
       "      <td>IN</td>\n",
       "      <td>100</td>\n",
       "      <td>United States</td>\n",
       "      <td>Large</td>\n",
       "      <td>Data Scientist</td>\n",
       "      <td>Amerika</td>\n",
       "    </tr>\n",
       "  </tbody>\n",
       "</table>\n",
       "<p>607 rows × 12 columns</p>\n",
       "</div>"
      ],
      "text/plain": [
       "     work_year experience_level employment_type                   job_title  \\\n",
       "0         2020        Mid-Level        FullTime              Data Scientist   \n",
       "1         2020     Senior-Level        FullTime  Machine Learning Scientist   \n",
       "2         2020     Senior-Level        FullTime           Big Data Engineer   \n",
       "3         2020        Mid-Level        FullTime        Product Data Analyst   \n",
       "4         2020     Senior-Level        FullTime   Machine Learning Engineer   \n",
       "..         ...              ...             ...                         ...   \n",
       "602       2022     Senior-Level        FullTime               Data Engineer   \n",
       "603       2022     Senior-Level        FullTime               Data Engineer   \n",
       "604       2022     Senior-Level        FullTime                Data Analyst   \n",
       "605       2022     Senior-Level        FullTime                Data Analyst   \n",
       "606       2022        Mid-Level        FullTime                AI Scientist   \n",
       "\n",
       "    salary_currency  salary_in_usd employee_residence  remote_ratio  \\\n",
       "0               EUR        79833.0                 DE             0   \n",
       "1               USD       260000.0                 JP             0   \n",
       "2               GBP       109024.0                 GB            50   \n",
       "3               USD        20000.0                 HN             0   \n",
       "4               USD       150000.0                 US            50   \n",
       "..              ...            ...                ...           ...   \n",
       "602             USD       154000.0                 US           100   \n",
       "603             USD       126000.0                 US           100   \n",
       "604             USD       129000.0                 US             0   \n",
       "605             USD       150000.0                 US           100   \n",
       "606             USD       200000.0                 IN           100   \n",
       "\n",
       "    company_location company_size       Pekerjaan    Benua  \n",
       "0            Germany        Large  Data Scientist    Eropa  \n",
       "1              Japan        Small  Data Scientist     Asia  \n",
       "2     United Kingdom       Medium   Data Engineer    Eropa  \n",
       "3           Honduras        Small    Data Analyst  Amerika  \n",
       "4      United States        Large   Data Engineer  Amerika  \n",
       "..               ...          ...             ...      ...  \n",
       "602    United States       Medium   Data Engineer  Amerika  \n",
       "603    United States       Medium   Data Engineer  Amerika  \n",
       "604    United States       Medium    Data Analyst  Amerika  \n",
       "605    United States       Medium    Data Analyst  Amerika  \n",
       "606    United States        Large  Data Scientist  Amerika  \n",
       "\n",
       "[607 rows x 12 columns]"
      ]
     },
     "execution_count": 264,
     "metadata": {},
     "output_type": "execute_result"
    }
   ],
   "source": [
    "df #Pengecekan kembali dataframe sebelum dianalisa"
   ]
  },
  {
   "cell_type": "markdown",
   "metadata": {},
   "source": [
    "Data Cleaning Sudah selesai dilakukan sesuai kebutuhan analisa data"
   ]
  },
  {
   "cell_type": "code",
   "execution_count": 281,
   "metadata": {},
   "outputs": [],
   "source": [
    "df.to_csv(\"clean_datasalary.csv\")"
   ]
  },
  {
   "cell_type": "markdown",
   "metadata": {},
   "source": [
    "# Analisa"
   ]
  },
  {
   "cell_type": "markdown",
   "metadata": {},
   "source": [
    "## 1. Dimanakah negara yang memiliki rata rata penghasilan yang tinggi sebagai pekerja data"
   ]
  },
  {
   "cell_type": "code",
   "execution_count": 266,
   "metadata": {},
   "outputs": [
    {
     "data": {
      "text/html": [
       "<div>\n",
       "<style scoped>\n",
       "    .dataframe tbody tr th:only-of-type {\n",
       "        vertical-align: middle;\n",
       "    }\n",
       "\n",
       "    .dataframe tbody tr th {\n",
       "        vertical-align: top;\n",
       "    }\n",
       "\n",
       "    .dataframe thead th {\n",
       "        text-align: right;\n",
       "    }\n",
       "</style>\n",
       "<table border=\"1\" class=\"dataframe\">\n",
       "  <thead>\n",
       "    <tr style=\"text-align: right;\">\n",
       "      <th></th>\n",
       "      <th>company_location</th>\n",
       "      <th>salary_in_usd</th>\n",
       "    </tr>\n",
       "  </thead>\n",
       "  <tbody>\n",
       "    <tr>\n",
       "      <th>39</th>\n",
       "      <td>Russia</td>\n",
       "      <td>157500.000000</td>\n",
       "    </tr>\n",
       "    <tr>\n",
       "      <th>48</th>\n",
       "      <td>United States</td>\n",
       "      <td>144055.261972</td>\n",
       "    </tr>\n",
       "    <tr>\n",
       "      <th>33</th>\n",
       "      <td>New Zealand</td>\n",
       "      <td>125000.000000</td>\n",
       "    </tr>\n",
       "    <tr>\n",
       "      <th>23</th>\n",
       "      <td>Israel</td>\n",
       "      <td>119059.000000</td>\n",
       "    </tr>\n",
       "    <tr>\n",
       "      <th>25</th>\n",
       "      <td>Japan</td>\n",
       "      <td>114127.333333</td>\n",
       "    </tr>\n",
       "    <tr>\n",
       "      <th>2</th>\n",
       "      <td>Australia</td>\n",
       "      <td>108042.666667</td>\n",
       "    </tr>\n",
       "    <tr>\n",
       "      <th>21</th>\n",
       "      <td>Iraq</td>\n",
       "      <td>100000.000000</td>\n",
       "    </tr>\n",
       "    <tr>\n",
       "      <th>46</th>\n",
       "      <td>United Arab Emirates</td>\n",
       "      <td>100000.000000</td>\n",
       "    </tr>\n",
       "    <tr>\n",
       "      <th>0</th>\n",
       "      <td>Algeria</td>\n",
       "      <td>100000.000000</td>\n",
       "    </tr>\n",
       "    <tr>\n",
       "      <th>6</th>\n",
       "      <td>Canada</td>\n",
       "      <td>99823.733333</td>\n",
       "    </tr>\n",
       "    <tr>\n",
       "      <th>40</th>\n",
       "      <td>Singapore</td>\n",
       "      <td>89294.000000</td>\n",
       "    </tr>\n",
       "    <tr>\n",
       "      <th>4</th>\n",
       "      <td>Belgium</td>\n",
       "      <td>85699.000000</td>\n",
       "    </tr>\n",
       "    <tr>\n",
       "      <th>15</th>\n",
       "      <td>Germany</td>\n",
       "      <td>81887.214286</td>\n",
       "    </tr>\n",
       "    <tr>\n",
       "      <th>47</th>\n",
       "      <td>United Kingdom</td>\n",
       "      <td>81583.042553</td>\n",
       "    </tr>\n",
       "    <tr>\n",
       "      <th>3</th>\n",
       "      <td>Austria</td>\n",
       "      <td>72920.750000</td>\n",
       "    </tr>\n",
       "    <tr>\n",
       "      <th>8</th>\n",
       "      <td>China</td>\n",
       "      <td>71665.500000</td>\n",
       "    </tr>\n",
       "    <tr>\n",
       "      <th>22</th>\n",
       "      <td>Ireland</td>\n",
       "      <td>71444.000000</td>\n",
       "    </tr>\n",
       "    <tr>\n",
       "      <th>36</th>\n",
       "      <td>Poland</td>\n",
       "      <td>66082.500000</td>\n",
       "    </tr>\n",
       "    <tr>\n",
       "      <th>43</th>\n",
       "      <td>Switzerland</td>\n",
       "      <td>64114.000000</td>\n",
       "    </tr>\n",
       "    <tr>\n",
       "      <th>14</th>\n",
       "      <td>France</td>\n",
       "      <td>63970.666667</td>\n",
       "    </tr>\n",
       "    <tr>\n",
       "      <th>41</th>\n",
       "      <td>Slovenia</td>\n",
       "      <td>63831.000000</td>\n",
       "    </tr>\n",
       "    <tr>\n",
       "      <th>38</th>\n",
       "      <td>Romania</td>\n",
       "      <td>60000.000000</td>\n",
       "    </tr>\n",
       "    <tr>\n",
       "      <th>32</th>\n",
       "      <td>Netherlands</td>\n",
       "      <td>54945.750000</td>\n",
       "    </tr>\n",
       "    <tr>\n",
       "      <th>12</th>\n",
       "      <td>Denmark</td>\n",
       "      <td>54386.333333</td>\n",
       "    </tr>\n",
       "    <tr>\n",
       "      <th>42</th>\n",
       "      <td>Spain</td>\n",
       "      <td>53060.142857</td>\n",
       "    </tr>\n",
       "    <tr>\n",
       "      <th>16</th>\n",
       "      <td>Greece</td>\n",
       "      <td>52293.090909</td>\n",
       "    </tr>\n",
       "    <tr>\n",
       "      <th>11</th>\n",
       "      <td>Czech Republic</td>\n",
       "      <td>50937.000000</td>\n",
       "    </tr>\n",
       "    <tr>\n",
       "      <th>37</th>\n",
       "      <td>Portugal</td>\n",
       "      <td>47793.750000</td>\n",
       "    </tr>\n",
       "    <tr>\n",
       "      <th>10</th>\n",
       "      <td>Croatia</td>\n",
       "      <td>45618.000000</td>\n",
       "    </tr>\n",
       "    <tr>\n",
       "      <th>27</th>\n",
       "      <td>Luxembourg</td>\n",
       "      <td>43942.666667</td>\n",
       "    </tr>\n",
       "    <tr>\n",
       "      <th>7</th>\n",
       "      <td>Chile</td>\n",
       "      <td>40038.000000</td>\n",
       "    </tr>\n",
       "    <tr>\n",
       "      <th>28</th>\n",
       "      <td>Malaysia</td>\n",
       "      <td>40000.000000</td>\n",
       "    </tr>\n",
       "    <tr>\n",
       "      <th>24</th>\n",
       "      <td>Italy</td>\n",
       "      <td>36366.500000</td>\n",
       "    </tr>\n",
       "    <tr>\n",
       "      <th>18</th>\n",
       "      <td>Hungary</td>\n",
       "      <td>35735.000000</td>\n",
       "    </tr>\n",
       "    <tr>\n",
       "      <th>13</th>\n",
       "      <td>Estonia</td>\n",
       "      <td>32974.000000</td>\n",
       "    </tr>\n",
       "    <tr>\n",
       "      <th>30</th>\n",
       "      <td>Mexico</td>\n",
       "      <td>32123.333333</td>\n",
       "    </tr>\n",
       "    <tr>\n",
       "      <th>34</th>\n",
       "      <td>Nigeria</td>\n",
       "      <td>30000.000000</td>\n",
       "    </tr>\n",
       "    <tr>\n",
       "      <th>19</th>\n",
       "      <td>India</td>\n",
       "      <td>28581.750000</td>\n",
       "    </tr>\n",
       "    <tr>\n",
       "      <th>29</th>\n",
       "      <td>Malta</td>\n",
       "      <td>28369.000000</td>\n",
       "    </tr>\n",
       "    <tr>\n",
       "      <th>9</th>\n",
       "      <td>Colombia</td>\n",
       "      <td>21844.000000</td>\n",
       "    </tr>\n",
       "    <tr>\n",
       "      <th>44</th>\n",
       "      <td>Turkey</td>\n",
       "      <td>20096.666667</td>\n",
       "    </tr>\n",
       "    <tr>\n",
       "      <th>17</th>\n",
       "      <td>Honduras</td>\n",
       "      <td>20000.000000</td>\n",
       "    </tr>\n",
       "    <tr>\n",
       "      <th>5</th>\n",
       "      <td>Brazil</td>\n",
       "      <td>18602.666667</td>\n",
       "    </tr>\n",
       "    <tr>\n",
       "      <th>1</th>\n",
       "      <td>American Samoa</td>\n",
       "      <td>18053.000000</td>\n",
       "    </tr>\n",
       "    <tr>\n",
       "      <th>31</th>\n",
       "      <td>Moldova</td>\n",
       "      <td>18000.000000</td>\n",
       "    </tr>\n",
       "    <tr>\n",
       "      <th>45</th>\n",
       "      <td>Ukraine</td>\n",
       "      <td>13400.000000</td>\n",
       "    </tr>\n",
       "    <tr>\n",
       "      <th>35</th>\n",
       "      <td>Pakistan</td>\n",
       "      <td>13333.333333</td>\n",
       "    </tr>\n",
       "    <tr>\n",
       "      <th>26</th>\n",
       "      <td>Kenya</td>\n",
       "      <td>9272.000000</td>\n",
       "    </tr>\n",
       "    <tr>\n",
       "      <th>20</th>\n",
       "      <td>Iran</td>\n",
       "      <td>4000.000000</td>\n",
       "    </tr>\n",
       "    <tr>\n",
       "      <th>49</th>\n",
       "      <td>Vietnam</td>\n",
       "      <td>4000.000000</td>\n",
       "    </tr>\n",
       "  </tbody>\n",
       "</table>\n",
       "</div>"
      ],
      "text/plain": [
       "        company_location  salary_in_usd\n",
       "39                Russia  157500.000000\n",
       "48         United States  144055.261972\n",
       "33           New Zealand  125000.000000\n",
       "23                Israel  119059.000000\n",
       "25                 Japan  114127.333333\n",
       "2              Australia  108042.666667\n",
       "21                  Iraq  100000.000000\n",
       "46  United Arab Emirates  100000.000000\n",
       "0                Algeria  100000.000000\n",
       "6                 Canada   99823.733333\n",
       "40             Singapore   89294.000000\n",
       "4                Belgium   85699.000000\n",
       "15               Germany   81887.214286\n",
       "47        United Kingdom   81583.042553\n",
       "3                Austria   72920.750000\n",
       "8                  China   71665.500000\n",
       "22               Ireland   71444.000000\n",
       "36                Poland   66082.500000\n",
       "43           Switzerland   64114.000000\n",
       "14                France   63970.666667\n",
       "41              Slovenia   63831.000000\n",
       "38               Romania   60000.000000\n",
       "32           Netherlands   54945.750000\n",
       "12               Denmark   54386.333333\n",
       "42                 Spain   53060.142857\n",
       "16                Greece   52293.090909\n",
       "11        Czech Republic   50937.000000\n",
       "37              Portugal   47793.750000\n",
       "10               Croatia   45618.000000\n",
       "27            Luxembourg   43942.666667\n",
       "7                  Chile   40038.000000\n",
       "28              Malaysia   40000.000000\n",
       "24                 Italy   36366.500000\n",
       "18               Hungary   35735.000000\n",
       "13               Estonia   32974.000000\n",
       "30                Mexico   32123.333333\n",
       "34               Nigeria   30000.000000\n",
       "19                 India   28581.750000\n",
       "29                 Malta   28369.000000\n",
       "9               Colombia   21844.000000\n",
       "44                Turkey   20096.666667\n",
       "17              Honduras   20000.000000\n",
       "5                 Brazil   18602.666667\n",
       "1         American Samoa   18053.000000\n",
       "31               Moldova   18000.000000\n",
       "45               Ukraine   13400.000000\n",
       "35              Pakistan   13333.333333\n",
       "26                 Kenya    9272.000000\n",
       "20                  Iran    4000.000000\n",
       "49               Vietnam    4000.000000"
      ]
     },
     "execution_count": 266,
     "metadata": {},
     "output_type": "execute_result"
    }
   ],
   "source": [
    "avg_salary = df[['company_location', 'salary_in_usd']].groupby(['company_location']).mean().reset_index() #menjumlahkan gaji data berdasarkan tempat kerjanya\n",
    "\n",
    "# Mengurutkan hasil berdasarkan 'salary_in_usd' dalam urutan menurun\n",
    "sorted_avg_salary = avg_salary.sort_values(by='salary_in_usd', ascending=False)\n",
    "\n",
    "sorted_avg_salary"
   ]
  },
  {
   "cell_type": "code",
   "execution_count": 267,
   "metadata": {},
   "outputs": [
    {
     "data": {
      "image/png": "[encoded data removed]",
      "text/plain": [
       "<Figure size 1000x800 with 1 Axes>"
      ]
     },
     "metadata": {},
     "output_type": "display_data"
    }
   ],
   "source": [
    "\n",
    "# Mengelompokkan data berdasarkan 'company_location' dan menghitung rata-rata gaji,\n",
    "# lalu mengurutkan berdasarkan rata-rata gaji tersebut\n",
    "rata_rata_gaji_per_lokasi = df.groupby('company_location')['salary_in_usd'].mean().sort_values()\n",
    "\n",
    "# Mendapatkan lokasi dengan rata-rata gaji tertinggi\n",
    "lokasi_gaji_tertinggi = rata_rata_gaji_per_lokasi.idxmax()\n",
    "\n",
    "# Mendefinisikan warna: gunakan satu warna untuk semua bar dan warna lain untuk gaji tertinggi\n",
    "warna = ['skyblue' if lokasi != lokasi_gaji_tertinggi else 'orange' for lokasi in rata_rata_gaji_per_lokasi.index]\n",
    "\n",
    "# Membuat plot bar horizontal dengan rata-rata gaji yang diurutkan\n",
    "rata_rata_gaji_per_lokasi.plot(kind='barh', figsize=(10, 8), color=warna)\n",
    "\n",
    "# Menambahkan label dan judul untuk kejelasan\n",
    "plt.xlabel('Rata-rata Gaji dalam USD')\n",
    "plt.ylabel('Lokasi Perusahaan')\n",
    "plt.title('Rata-rata Gaji Berdasarkan Lokasi Perusahaan')\n",
    "plt.show()\n"
   ]
  },
  {
   "cell_type": "markdown",
   "metadata": {},
   "source": [
    "Dari hasil yang didapat rata rata tertinggi lokasi pekerjaan disebuah negara berada di Rusia mendapatkan rata rata penghasilan tertinggi sebesar $157500, direkomendasikan kepada para pekerja yang ingin mendapatkan penghasilan yang tinggi untuk bekerja di perusahaan yang berlokasi di rusia"
   ]
  },
  {
   "cell_type": "markdown",
   "metadata": {},
   "source": [
    "## 2. Apakah tingkat pengalaman kerja mempengaruhi penghasilan"
   ]
  },
  {
   "cell_type": "code",
   "execution_count": 268,
   "metadata": {},
   "outputs": [
    {
     "data": {
      "text/html": [
       "<div>\n",
       "<style scoped>\n",
       "    .dataframe tbody tr th:only-of-type {\n",
       "        vertical-align: middle;\n",
       "    }\n",
       "\n",
       "    .dataframe tbody tr th {\n",
       "        vertical-align: top;\n",
       "    }\n",
       "\n",
       "    .dataframe thead th {\n",
       "        text-align: right;\n",
       "    }\n",
       "</style>\n",
       "<table border=\"1\" class=\"dataframe\">\n",
       "  <thead>\n",
       "    <tr style=\"text-align: right;\">\n",
       "      <th></th>\n",
       "      <th>experience_level</th>\n",
       "      <th>salary_in_usd</th>\n",
       "    </tr>\n",
       "  </thead>\n",
       "  <tbody>\n",
       "    <tr>\n",
       "      <th>1</th>\n",
       "      <td>Expert-Level</td>\n",
       "      <td>199392.038462</td>\n",
       "    </tr>\n",
       "    <tr>\n",
       "      <th>3</th>\n",
       "      <td>Senior-Level</td>\n",
       "      <td>138617.292857</td>\n",
       "    </tr>\n",
       "    <tr>\n",
       "      <th>2</th>\n",
       "      <td>Mid-Level</td>\n",
       "      <td>87996.056338</td>\n",
       "    </tr>\n",
       "    <tr>\n",
       "      <th>0</th>\n",
       "      <td>Entry-Level</td>\n",
       "      <td>61643.318182</td>\n",
       "    </tr>\n",
       "  </tbody>\n",
       "</table>\n",
       "</div>"
      ],
      "text/plain": [
       "  experience_level  salary_in_usd\n",
       "1     Expert-Level  199392.038462\n",
       "3     Senior-Level  138617.292857\n",
       "2        Mid-Level   87996.056338\n",
       "0      Entry-Level   61643.318182"
      ]
     },
     "execution_count": 268,
     "metadata": {},
     "output_type": "execute_result"
    }
   ],
   "source": [
    "\n",
    "average_salary_exp = df[['experience_level', 'salary_in_usd']].groupby(['experience_level']).mean().reset_index() #memngelompokan data berdasarkan pekerjaan dan tingkatan level kerjanya\n",
    "\n",
    "# Mengurutkan hasil berdasarkan 'salary_in_usd' dalam urutan menurun\n",
    "sorted_average_salary_exp = average_salary_exp.sort_values(by='salary_in_usd', ascending=False)\n",
    "\n",
    "sorted_average_salary_exp"
   ]
  },
  {
   "cell_type": "markdown",
   "metadata": {},
   "source": [
    "H0: Rata Rata penghasilan di tiap level tingkatan sama\n",
    "\n",
    "H1: Rata-rata penghasilan di tiap level tingkatan berbeda "
   ]
  },
  {
   "cell_type": "code",
   "execution_count": 269,
   "metadata": {},
   "outputs": [],
   "source": [
    "EX = df[df['experience_level']=='Expert-Level'][['work_year','salary_in_usd']].groupby(['work_year']).mean()\n",
    "EN = df[df['experience_level']=='Entry-Level'][['work_year','salary_in_usd']].groupby(['work_year']).mean()\n",
    "SE = df[df['experience_level']=='Senior-Level'][['work_year','salary_in_usd']].groupby(['work_year']).mean()\n",
    "MI = df[df['experience_level']=='Mid-Level'][['work_year','salary_in_usd']].groupby(['work_year']).mean()"
   ]
  },
  {
   "cell_type": "code",
   "execution_count": 270,
   "metadata": {},
   "outputs": [
    {
     "name": "stdout",
     "output_type": "stream",
     "text": [
      "P-value: [3.58215021e-06]\n"
     ]
    }
   ],
   "source": [
    "res = stats.f_oneway(EX,EN,SE,MI)\n",
    "print('P-value:',res.pvalue)"
   ]
  },
  {
   "cell_type": "markdown",
   "metadata": {},
   "source": [
    "p-value < 5% (critical value) berhasil di tolak H0 maka H1 diterima yang artinya Rata-rata penghasilan di tiap level tingkatan berbeda maka dari itu tingkatan level berpengaruh pada penghasilan pekerja semakin tinggi tingkat pekerjaan semakin tinggi pendapatan"
   ]
  },
  {
   "cell_type": "markdown",
   "metadata": {},
   "source": [
    "## 3. Pekerjaan apa yang penghasilannya paling tinggi"
   ]
  },
  {
   "cell_type": "code",
   "execution_count": 271,
   "metadata": {},
   "outputs": [
    {
     "data": {
      "text/html": [
       "<div>\n",
       "<style scoped>\n",
       "    .dataframe tbody tr th:only-of-type {\n",
       "        vertical-align: middle;\n",
       "    }\n",
       "\n",
       "    .dataframe tbody tr th {\n",
       "        vertical-align: top;\n",
       "    }\n",
       "\n",
       "    .dataframe thead th {\n",
       "        text-align: right;\n",
       "    }\n",
       "</style>\n",
       "<table border=\"1\" class=\"dataframe\">\n",
       "  <thead>\n",
       "    <tr style=\"text-align: right;\">\n",
       "      <th></th>\n",
       "      <th>Pekerjaan</th>\n",
       "      <th>salary_in_usd</th>\n",
       "    </tr>\n",
       "  </thead>\n",
       "  <tbody>\n",
       "    <tr>\n",
       "      <th>2</th>\n",
       "      <td>Data Scientist</td>\n",
       "      <td>119140.705357</td>\n",
       "    </tr>\n",
       "    <tr>\n",
       "      <th>1</th>\n",
       "      <td>Data Engineer</td>\n",
       "      <td>113436.721774</td>\n",
       "    </tr>\n",
       "    <tr>\n",
       "      <th>0</th>\n",
       "      <td>Data Analyst</td>\n",
       "      <td>98851.718519</td>\n",
       "    </tr>\n",
       "  </tbody>\n",
       "</table>\n",
       "</div>"
      ],
      "text/plain": [
       "        Pekerjaan  salary_in_usd\n",
       "2  Data Scientist  119140.705357\n",
       "1   Data Engineer  113436.721774\n",
       "0    Data Analyst   98851.718519"
      ]
     },
     "execution_count": 271,
     "metadata": {},
     "output_type": "execute_result"
    }
   ],
   "source": [
    "\n",
    "average_salary = df[['Pekerjaan', 'salary_in_usd']].groupby(['Pekerjaan']).mean().reset_index() #memngelompokan data berdasarkan pekerjaan dan tempat kerjanya\n",
    "\n",
    "# Mengurutkan hasil berdasarkan 'salary_in_usd' dalam urutan menurun\n",
    "sorted_average_salary = average_salary.sort_values(by='salary_in_usd', ascending=False)\n",
    "\n",
    "sorted_average_salary"
   ]
  },
  {
   "cell_type": "code",
   "execution_count": 272,
   "metadata": {},
   "outputs": [
    {
     "data": {
      "text/plain": [
       "<Axes: xlabel='Pekerjaan'>"
      ]
     },
     "execution_count": 272,
     "metadata": {},
     "output_type": "execute_result"
    },
    {
     "data": {
      "image/png": "[encoded data removed]",
      "text/plain": [
       "<Figure size 640x480 with 1 Axes>"
      ]
     },
     "metadata": {},
     "output_type": "display_data"
    }
   ],
   "source": [
    "df.groupby(['Pekerjaan'])['salary_in_usd'].mean().sort_values(ascending=False).plot(kind='bar') #visualisasi dengan plot bar"
   ]
  },
  {
   "cell_type": "markdown",
   "metadata": {},
   "source": [
    "Dari hasil yang didapat rata rata tertinggi sebuah pekerjaan yang sudah dikelompokna data scientist memiliki rata rata yang paling tinggi,jadi direkomendasikan jika ingin mendapatkan penghasilan yang tinggi maka data scientist menjadi opsi pertama dalam pemilihan pekerjaan"
   ]
  },
  {
   "cell_type": "markdown",
   "metadata": {},
   "source": [
    "## 4. Bagaimana  rata rata gaji antar benua di tiap perusahaan"
   ]
  },
  {
   "cell_type": "code",
   "execution_count": 282,
   "metadata": {},
   "outputs": [
    {
     "data": {
      "text/html": [
       "<div>\n",
       "<style scoped>\n",
       "    .dataframe tbody tr th:only-of-type {\n",
       "        vertical-align: middle;\n",
       "    }\n",
       "\n",
       "    .dataframe tbody tr th {\n",
       "        vertical-align: top;\n",
       "    }\n",
       "\n",
       "    .dataframe thead th {\n",
       "        text-align: right;\n",
       "    }\n",
       "</style>\n",
       "<table border=\"1\" class=\"dataframe\">\n",
       "  <thead>\n",
       "    <tr style=\"text-align: right;\">\n",
       "      <th></th>\n",
       "      <th>Benua</th>\n",
       "      <th>salary_in_usd</th>\n",
       "    </tr>\n",
       "  </thead>\n",
       "  <tbody>\n",
       "    <tr>\n",
       "      <th>1</th>\n",
       "      <td>Amerika</td>\n",
       "      <td>137990.837563</td>\n",
       "    </tr>\n",
       "    <tr>\n",
       "      <th>3</th>\n",
       "      <td>Eropa</td>\n",
       "      <td>69358.369427</td>\n",
       "    </tr>\n",
       "    <tr>\n",
       "      <th>2</th>\n",
       "      <td>Asia</td>\n",
       "      <td>53329.960784</td>\n",
       "    </tr>\n",
       "    <tr>\n",
       "      <th>0</th>\n",
       "      <td>Afrika</td>\n",
       "      <td>42318.000000</td>\n",
       "    </tr>\n",
       "    <tr>\n",
       "      <th>4</th>\n",
       "      <td>Other</td>\n",
       "      <td>18053.000000</td>\n",
       "    </tr>\n",
       "  </tbody>\n",
       "</table>\n",
       "</div>"
      ],
      "text/plain": [
       "     Benua  salary_in_usd\n",
       "1  Amerika  137990.837563\n",
       "3    Eropa   69358.369427\n",
       "2     Asia   53329.960784\n",
       "0   Afrika   42318.000000\n",
       "4    Other   18053.000000"
      ]
     },
     "execution_count": 282,
     "metadata": {},
     "output_type": "execute_result"
    }
   ],
   "source": [
    "avg_salary = df[['Benua', 'salary_in_usd']].groupby(['Benua']).mean().reset_index() #menjumlahkan gaji data berdasarkan tempat kerjanya\n",
    "\n",
    "# Mengurutkan hasil berdasarkan 'salary_in_usd' dalam urutan menurun\n",
    "sorted_avg_salary = avg_salary.sort_values(by='salary_in_usd', ascending=False)\n",
    "\n",
    "sorted_avg_salary"
   ]
  },
  {
   "cell_type": "code",
   "execution_count": 283,
   "metadata": {},
   "outputs": [
    {
     "data": {
      "text/plain": [
       "<Axes: xlabel='Benua'>"
      ]
     },
     "execution_count": 283,
     "metadata": {},
     "output_type": "execute_result"
    },
    {
     "data": {
      "image/png": "[encoded data removed]",
      "text/plain": [
       "<Figure size 640x480 with 1 Axes>"
      ]
     },
     "metadata": {},
     "output_type": "display_data"
    }
   ],
   "source": [
    "df.groupby(['Benua'])['salary_in_usd'].mean().sort_values(ascending=False).plot(kind='bar') "
   ]
  },
  {
   "cell_type": "markdown",
   "metadata": {},
   "source": [
    "Benua Amerika menjadi benua yang memiliki rata rata gaji pekerja data tertinggi dibanding benua yang lain dan benua eropa menjadi urutan ke 2, ini menunjukan bahwa adanya perbedaan penghasilan antara negara maju dengan negara berkembang yang mayoritas negara negara yang berada di benua eropa dan amerika merupakan negara maju sedangkan negara negara yang berada di benua afrika dan asia masih kebanyakan negara berkembang"
   ]
  },
  {
   "cell_type": "markdown",
   "metadata": {},
   "source": [
    "## 5. Pada tahun berapa rata rata penghasilan paling tinggi"
   ]
  },
  {
   "cell_type": "code",
   "execution_count": 275,
   "metadata": {},
   "outputs": [
    {
     "data": {
      "text/html": [
       "<div>\n",
       "<style scoped>\n",
       "    .dataframe tbody tr th:only-of-type {\n",
       "        vertical-align: middle;\n",
       "    }\n",
       "\n",
       "    .dataframe tbody tr th {\n",
       "        vertical-align: top;\n",
       "    }\n",
       "\n",
       "    .dataframe thead th {\n",
       "        text-align: right;\n",
       "    }\n",
       "</style>\n",
       "<table border=\"1\" class=\"dataframe\">\n",
       "  <thead>\n",
       "    <tr style=\"text-align: right;\">\n",
       "      <th></th>\n",
       "      <th>salary_in_usd</th>\n",
       "    </tr>\n",
       "    <tr>\n",
       "      <th>work_year</th>\n",
       "      <th></th>\n",
       "    </tr>\n",
       "  </thead>\n",
       "  <tbody>\n",
       "    <tr>\n",
       "      <th>2020</th>\n",
       "      <td>95813.000000</td>\n",
       "    </tr>\n",
       "    <tr>\n",
       "      <th>2021</th>\n",
       "      <td>99853.792627</td>\n",
       "    </tr>\n",
       "    <tr>\n",
       "      <th>2022</th>\n",
       "      <td>124522.006289</td>\n",
       "    </tr>\n",
       "  </tbody>\n",
       "</table>\n",
       "</div>"
      ],
      "text/plain": [
       "           salary_in_usd\n",
       "work_year               \n",
       "2020        95813.000000\n",
       "2021        99853.792627\n",
       "2022       124522.006289"
      ]
     },
     "execution_count": 275,
     "metadata": {},
     "output_type": "execute_result"
    }
   ],
   "source": [
    "df[['work_year','salary_in_usd']].groupby(['work_year',]).mean() #untuk mencari rerata gaji dalam dollar tiap taun\n"
   ]
  },
  {
   "cell_type": "code",
   "execution_count": 276,
   "metadata": {},
   "outputs": [
    {
     "data": {
      "text/plain": [
       "<Axes: xlabel='work_year'>"
      ]
     },
     "execution_count": 276,
     "metadata": {},
     "output_type": "execute_result"
    },
    {
     "data": {
      "image/png": "[encoded data removed]",
      "text/plain": [
       "<Figure size 640x480 with 1 Axes>"
      ]
     },
     "metadata": {},
     "output_type": "display_data"
    }
   ],
   "source": [
    "df.groupby(['work_year'])['salary_in_usd'].mean().plot(kind='bar')"
   ]
  },
  {
   "cell_type": "markdown",
   "metadata": {},
   "source": [
    "Didapatkan rata rata gaji pekerja data di tahun 2020 yaitu $95813\n",
    "\n",
    " rata rata gaji pekerja data di tahun 2021 yaitu $99853\n",
    "\n",
    "  rata rata gaji pekerja data di tahun 2022 yaitu $124522"
   ]
  },
  {
   "cell_type": "markdown",
   "metadata": {},
   "source": [
    "Kenaikan gaji dari tahun 2020 hingga 2022 mengalami kenaikan walaupun pada tahun 2021 tidak begitu tinggi dikarnakan pada tahun tersebut negara negara masih dalam proses pemulihan paska covid 19, berbeda dengan pada tahun 2022 yang mengalami kenaikan drastis dalam rata rata gaji pekerjanya\n",
    "\n",
    "'source : https://tirto.id/imf-proyeksi-inflasi-global-capai-66-persen-bagaimana-indonesia-guwb'"
   ]
  },
  {
   "cell_type": "markdown",
   "metadata": {},
   "source": [
    "## 6. Pengaruh kapasitas company terhadap gaji"
   ]
  },
  {
   "cell_type": "code",
   "execution_count": 277,
   "metadata": {},
   "outputs": [],
   "source": [
    "Small = df['salary_in_usd'][df['company_size']=='Small']\n",
    "Medium = df['salary_in_usd'][df['company_size']=='Medium']\n",
    "Large = df['salary_in_usd'][df['company_size']=='Large']\n"
   ]
  },
  {
   "cell_type": "code",
   "execution_count": 278,
   "metadata": {},
   "outputs": [
    {
     "name": "stdout",
     "output_type": "stream",
     "text": [
      "Rata rata gaji pada perusahaan kecil: 77632.67\n",
      "Rata rata gaji pada perusahaan sedang: 116905.47\n",
      "Rata rata gaji pada perusahaan besar: 119242.99\n"
     ]
    }
   ],
   "source": [
    "print(f'Rata rata gaji pada perusahaan kecil: {Small.mean():.2f}')\n",
    "print(f'Rata rata gaji pada perusahaan sedang: {Medium.mean():.2f}')\n",
    "print(f'Rata rata gaji pada perusahaan besar: {Large.mean():.2f}')"
   ]
  },
  {
   "cell_type": "markdown",
   "metadata": {},
   "source": [
    "H0 = tidak adanya pengaruh signifikan antara besarnya perusahaan dengan gaji pekerjanya\n",
    "\n",
    "H1 = Adanya pengaruh signifikan antara besarnya perusahaan dengan gaji pekerjanya"
   ]
  },
  {
   "cell_type": "code",
   "execution_count": 279,
   "metadata": {},
   "outputs": [
    {
     "name": "stdout",
     "output_type": "stream",
     "text": [
      "P-value: 8.071991905906015e-06\n"
     ]
    }
   ],
   "source": [
    "res = stats.f_oneway(Small,Medium,Large)\n",
    "print('P-value:',res.pvalue)"
   ]
  },
  {
   "cell_type": "markdown",
   "metadata": {},
   "source": [
    "P-Value<5% maka H0 ditolak H1 diterima yang artinya besarnya perusahaan berpengaruh pada gaji pekerjanya"
   ]
  },
  {
   "cell_type": "code",
   "execution_count": 280,
   "metadata": {},
   "outputs": [
    {
     "name": "stdout",
     "output_type": "stream",
     "text": [
      "Pekerjaan     Data Analyst  Data Engineer  Data Scientist\n",
      "company_size                                             \n",
      "Large                   32             78              88\n",
      "Medium                  91            134             101\n",
      "Small                   12             36              35\n"
     ]
    },
    {
     "data": {
      "image/png": "[encoded data removed]",
      "text/plain": [
       "<Figure size 1000x700 with 1 Axes>"
      ]
     },
     "metadata": {},
     "output_type": "display_data"
    }
   ],
   "source": [
    "# Menghitung jumlah masing-masing kombinasi dari 'company_size' dan 'Pekerjaan'\n",
    "jumlah_per_size_pekerjaan = df.groupby(['company_size', 'Pekerjaan']).size().unstack()\n",
    "\n",
    "# Menampilkan hasil\n",
    "print(jumlah_per_size_pekerjaan)\n",
    "\n",
    "# Jika ingin membuat visualisasi\n",
    "jumlah_per_size_pekerjaan.plot(kind='bar', stacked=False, figsize=(10, 7))\n",
    "plt.ylabel('Jumlah')\n",
    "plt.xlabel('Ukuran Perusahaan')\n",
    "plt.title('Distribusi Pekerjaan Berdasarkan Ukuran Perusahaan')\n",
    "plt.xticks(rotation=0)\n",
    "plt.show()\n"
   ]
  },
  {
   "cell_type": "markdown",
   "metadata": {},
   "source": [
    "Banyaknya Pekerjaan bedasarkan company size"
   ]
  },
  {
   "cell_type": "markdown",
   "metadata": {},
   "source": [
    "## 7.Analisa Rata Rata penghasilan secara keseluruhan"
   ]
  },
  {
   "cell_type": "code",
   "execution_count": 287,
   "metadata": {},
   "outputs": [
    {
     "name": "stdout",
     "output_type": "stream",
     "text": [
      "salary_in_usd in Average: 112297.86985172982\n",
      "Median of salary_in_usd: 101570.0\n",
      "Mode of salary_in_usd: 100000.0\n",
      "Variance of salary: 5034932663.176105\n",
      "Standard Deviation of salary: 70957.2594113957\n"
     ]
    }
   ],
   "source": [
    "print('salary_in_usd in Average:',df['salary_in_usd'].mean())\n",
    "print('Median of salary_in_usd:',df['salary_in_usd'].median())\n",
    "print('Mode of salary_in_usd:',df['salary_in_usd'].mode().values[0])\n",
    "variance = df['salary_in_usd'].var()\n",
    "print('Variance of salary:',variance)\n",
    "std = df['salary_in_usd'].std()\n",
    "print('Standard Deviation of salary:',std)"
   ]
  },
  {
   "cell_type": "markdown",
   "metadata": {},
   "source": [
    "Dari data data diatas berdasarkan standar deviasi rata rata penghasilan yang tersebar di negara negara,variasi data tidak tersebar secara merata dikarnakan rata rata keselurahannya berada di $1112297"
   ]
  },
  {
   "cell_type": "markdown",
   "metadata": {},
   "source": [
    "# Kesimpulan"
   ]
  },
  {
   "cell_type": "markdown",
   "metadata": {},
   "source": [
    "## Recap"
   ]
  },
  {
   "cell_type": "markdown",
   "metadata": {},
   "source": [
    "• Dari hasil yang didapat rata rata tertinggi lokasi pekerjaan disebuah negara berada di Rusia mendapatkan rata rata penghasilan tertinggi sebesar $157500, direkomendasikan kepada para pekerja yang ingin mendapatkan penghasilan yang tinggi untuk bekerja di perusahaan yang berlokasi di rusia\n",
    "\n",
    "•Rata-rata penghasilan di tiap level tingkatan berbeda maka dari itu tingkatan level berpengaruh pada penghasilan pekerja semakin tinggi tingkat pekerjaan semakin tinggi pendapatan\n",
    "\n",
    "•Dari hasil yang didapat rata rata tertinggi sebuah pekerjaan yang sudah dikelompokna data scientist memiliki rata rata yang paling tinggi,jadi direkomendasikan jika ingin mendapatkan penghasilan yang tinggi maka data scientist menjadi opsi pertama dalam pemilihan pekerjaan\n",
    "\n",
    "•Benua Amerika menjadi benua yang memiliki rata rata gaji pekerja data tertinggi dibanding benua yang lain dan benua eropa menjadi urutan ke 2, ini menunjukan bahwa adanya perbedaan penghasilan antara negara maju dengan negara berkembang yang mayoritas negara negara yang berada di benua eropa dan amerika merupakan negara maju sedangkan negara negara yang berada di benua afrika dan asia masih kebanyakan negara berkembang\n",
    "\n",
    "•Kenaikan gaji dari tahun 2020 hingga 2022 mengalami kenaikan walaupun pada tahun 2021 tidak begitu tinggi dikarnakan pada tahun tersebut negara negara masih dalam proses pemulihan paska covid 19, berbeda dengan pada tahun 2022 yang mengalami kenaikan drastis dalam rata rata gaji pekerjanya\n",
    "\n",
    "•besarnya perusahaan berpengaruh pada gaji pekerjanya\n",
    "\n",
    "• variasi data tidak tersebar secara merata"
   ]
  },
  {
   "cell_type": "markdown",
   "metadata": {},
   "source": [
    "## Insight"
   ]
  },
  {
   "cell_type": "markdown",
   "metadata": {},
   "source": [
    "Terdapat beberapa poin yang dapat ditentukan dalam pengambilan keputusan dalam pemilihan pekerjaan yang diinginkan\n",
    "•Lokasi sebuah perusahaan\n",
    "•Jenis Pekerjaan\n",
    "•Besar kecilnya sebuah perusahaan"
   ]
  },
  {
   "cell_type": "markdown",
   "metadata": {},
   "source": [
    "## summary"
   ]
  },
  {
   "cell_type": "markdown",
   "metadata": {},
   "source": [
    "Bagi mereka yang mencari gaji tinggi di bidang data, memilih pekerjaan di negara maju, terutama sebagai Data Scientist, adalah pilihan yang sangat baik. Perusahaan besar di negara maju menawarkan penghasilan yang lebih tinggi, dan tren kenaikan gaji menunjukkan adanya potensi pertumbuhan yang baik dalam beberapa tahun ke depan."
   ]
  }
 ],
 "metadata": {
  "kernelspec": {
   "display_name": "base",
   "language": "python",
   "name": "python3"
  },
  "language_info": {
   "codemirror_mode": {
    "name": "ipython",
    "version": 3
   },
   "file_extension": ".py",
   "mimetype": "text/x-python",
   "name": "python",
   "nbconvert_exporter": "python",
   "pygments_lexer": "ipython3",
   "version": "3.12.4"
  }
 },
 "nbformat": 4,
 "nbformat_minor": 2
}
